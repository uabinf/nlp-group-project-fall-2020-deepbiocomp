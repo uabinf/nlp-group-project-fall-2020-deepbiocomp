{
 "cells": [
  {
   "cell_type": "code",
   "execution_count": 1,
   "metadata": {},
   "outputs": [],
   "source": [
    "import torch\n",
    "import transformers"
   ]
  },
  {
   "cell_type": "code",
   "execution_count": 2,
   "metadata": {},
   "outputs": [],
   "source": [
    "OUTPUT_DIR='./output'\n",
    "TRAIN_FILE='./dataset/prepared-data/text-generation/train_text-generation.txt'\n",
    "VALID_FILE='./dataset/prepared-data/text-generation/dev_text-generation.txt'"
   ]
  },
  {
   "cell_type": "markdown",
   "metadata": {},
   "source": [
    "## Fine-tune GPT2 language model to dataset"
   ]
  },
  {
   "cell_type": "code",
   "execution_count": 3,
   "metadata": {},
   "outputs": [
    {
     "name": "stdout",
     "output_type": "stream",
     "text": [
      "2020-11-23 16:41:02.134525: W tensorflow/stream_executor/platform/default/dso_loader.cc:59] Could not load dynamic library 'libcudart.so.10.1'; dlerror: libcudart.so.10.1: cannot open shared object file: No such file or directory; LD_LIBRARY_PATH: /cm/shared/apps/cuda10.0/toolkit/10.0.130/extras/CUPTI/lib64:/cm/local/apps/cuda/libs/current/lib64:/cm/shared/apps/cuda10.0/toolkit/10.0.130/targets/x86_64-linux/lib:/cm/shared/apps/slurm/18.08.9/lib64/slurm:/cm/shared/apps/slurm/18.08.9/lib64\n",
      "2020-11-23 16:41:02.134594: I tensorflow/stream_executor/cuda/cudart_stub.cc:29] Ignore above cudart dlerror if you do not have a GPU set up on your machine.\n",
      "11/23/2020 16:41:23 - WARNING - __main__ -   Process rank: -1, device: cuda:0, n_gpu: 1, distributed training: False, 16-bits training: False\n",
      "11/23/2020 16:41:23 - INFO - __main__ -   Training/evaluation parameters TrainingArguments(output_dir='./output/', overwrite_output_dir=True, do_train=True, do_eval=True, do_predict=False, evaluation_strategy=<EvaluationStrategy.NO: 'no'>, prediction_loss_only=False, per_device_train_batch_size=2, per_device_eval_batch_size=2, per_gpu_train_batch_size=None, per_gpu_eval_batch_size=None, gradient_accumulation_steps=1, eval_accumulation_steps=None, learning_rate=5e-05, weight_decay=0.0, adam_beta1=0.9, adam_beta2=0.999, adam_epsilon=1e-08, max_grad_norm=1.0, num_train_epochs=1.0, max_steps=-1, warmup_steps=0, logging_dir='runs/Nov23_16-41-23_c0097', logging_first_step=False, logging_steps=500, save_steps=500, save_total_limit=None, no_cuda=False, seed=42, fp16=False, fp16_opt_level='O1', local_rank=-1, tpu_num_cores=None, tpu_metrics_debug=False, debug=False, dataloader_drop_last=False, eval_steps=500, dataloader_num_workers=0, past_index=-1, run_name='./output/', disable_tqdm=False, remove_unused_columns=True, label_names=None, load_best_model_at_end=False, metric_for_best_model=None, greater_is_better=None)\n",
      "/home/mtsami/.local/lib/python3.7/site-packages/transformers/models/auto/modeling_auto.py:852: FutureWarning: The class `AutoModelWithLMHead` is deprecated and will be removed in a future version. Please use `AutoModelForCausalLM` for causal language models, `AutoModelForMaskedLM` for masked language models and `AutoModelForSeq2SeqLM` for encoder-decoder models.\n",
      "  FutureWarning,\n",
      "/home/mtsami/.local/lib/python3.7/site-packages/transformers/data/datasets/language_modeling.py:114: FutureWarning: This dataset will be removed from the library soon, preprocessing should be handled with the 🤗 Datasets library. You can have a look at this example script for pointers: https://github.com/huggingface/transformers/blob/master/examples/language-modeling/run_mlm.py\n",
      "  FutureWarning,\n",
      "{'loss': 2.53866455078125, 'learning_rate': 3.611111111111111e-05, 'epoch': 0.2777777777777778}\n",
      "{'loss': 1.32922119140625, 'learning_rate': 2.2222222222222223e-05, 'epoch': 0.5555555555555556}\n",
      "{'loss': 1.172187255859375, 'learning_rate': 8.333333333333334e-06, 'epoch': 0.8333333333333334}\n",
      "{'epoch': 1.0}                                                                  \n",
      "100%|███████████████████████████████████████| 1800/1800 [03:36<00:00,  8.33it/s]\n",
      "11/23/2020 16:45:10 - INFO - __main__ -   *** Evaluate ***\n",
      "100%|█████████████████████████████████████████| 270/270 [00:07<00:00, 35.00it/s]\n",
      "11/23/2020 16:45:17 - INFO - __main__ -   ***** Eval results *****\n",
      "11/23/2020 16:45:17 - INFO - __main__ -     perplexity = 2.716787746231871\n",
      "CPU times: user 2.49 s, sys: 545 ms, total: 3.03 s\n",
      "Wall time: 4min 26s\n"
     ]
    }
   ],
   "source": [
    "%%time\n",
    "!python3 ./transformers/examples/language-modeling/run_language_modeling.py \\\n",
    "--output_dir $OUTPUT_DIR \\\n",
    "--model_type gpt2\\\n",
    "--model_name_or_path gpt2\\\n",
    "--do_train \\\n",
    "--train_data_file $TRAIN_FILE \\\n",
    "--do_eval \\\n",
    "--eval_data_file $VALID_FILE \\\n",
    "--per_device_train_batch_size=2 \\\n",
    "--per_device_eval_batch_size=2 \\\n",
    "--line_by_line \\\n",
    "--overwrite_output_dir\\\n",
    "--learning_rate=5e-5 \\\n",
    "--num_train_epochs=1"
   ]
  },
  {
   "cell_type": "markdown",
   "metadata": {},
   "source": [
    "## Used fine-tuned GPT2 model for text generation"
   ]
  },
  {
   "cell_type": "code",
   "execution_count": 3,
   "metadata": {},
   "outputs": [
    {
     "name": "stdout",
     "output_type": "stream",
     "text": [
      "certain#genetic#conditions#increase#the#risk#of#childhood#cns#embryonal#tumors#.\n"
     ]
    }
   ],
   "source": [
    "# #Modify input text to get around the issue of argparge not accepting strings with space characters.\n",
    "input_text='certain genetic conditions increase the risk of childhood cns embryonal tumors .'\n",
    "input_text=input_text.replace(' ', '#')\n",
    "print(input_text)"
   ]
  },
  {
   "cell_type": "code",
   "execution_count": 4,
   "metadata": {},
   "outputs": [
    {
     "name": "stdout",
     "output_type": "stream",
     "text": [
      "2020-11-25 18:06:49.088164: W tensorflow/stream_executor/platform/default/dso_loader.cc:59] Could not load dynamic library 'libcudart.so.10.1'; dlerror: libcudart.so.10.1: cannot open shared object file: No such file or directory; LD_LIBRARY_PATH: /cm/shared/apps/cuda10.0/toolkit/10.0.130/extras/CUPTI/lib64:/cm/local/apps/cuda/libs/current/lib64:/cm/shared/apps/cuda10.0/toolkit/10.0.130/targets/x86_64-linux/lib:/cm/shared/apps/slurm/18.08.9/lib64/slurm:/cm/shared/apps/slurm/18.08.9/lib64\n",
      "2020-11-25 18:06:49.088199: I tensorflow/stream_executor/cuda/cudart_stub.cc:29] Ignore above cudart dlerror if you do not have a GPU set up on your machine.\n",
      "11/25/2020 18:07:18 - INFO - __main__ -   Namespace(device=device(type='cuda'), k=50, length=500, model_name_or_path='./output', model_type='gpt2', n_gpu=1, no_cuda=False, num_return_sequences=2, p=0.9, padding_text='', prompt='certain#genetic#conditions#increase#the#risk#of#childhood#cns#embryonal#tumors#.', repetition_penalty=1.0, seed=42, stop_token='<EOS>', temperature=1.0, xlm_language='')\n",
      "certain genetic conditions increase the risk of childhood cns embryonal tumors .\n",
      "Setting `pad_token_id` to `eos_token_id`:50256 for open-end generation.\n",
      "=== GENERATED SEQUENCE 1 ===\n",
      "certain genetic conditions increase the risk of childhood cns embryonal tumors . This risk is increased in those with low-grade brain tumors (the most common type). The risk of childhood CNS embryonal tumors is also increased in people with white blood cells and other inherited diseases. Other risk factors for childhood CNS embryonal tumors include the following:         - Having a white blood cell or other inherited disorder that increases the risk of CNS embryonal tumors.    - Having an abnormal white blood cell or gene mutation (change) in the cerebrospinal fluid or blood.       - Having both normal white blood cells and a rare genetic disorder.     - Having either a white blood cell or a rare genetic condition.       - Being exposed to certain drugs and alcohol, including alcohol and tobacco.                - Having a chronic kidney disease, including kidney disease, that increases the risk of developing chronic kidney disease and cirrhosis.    - Having either a cirrhosis or a recurrent kidney disease.          - Having a chronic kidney disease with a high level of white blood cell count.        - Having an increased risk of endometrial cancer that includes the following:            - Having a gene mutation that increases the risk of endometrial cancer.     - Having a severe endometrial condition.         - Having abnormal white blood cells or a rare genetic condition.       - Being exposed to certain substances. \n",
      "=== GENERATED SEQUENCE 2 ===\n",
      "certain genetic conditions increase the risk of childhood cns embryonal tumors .     Children with certain genetic conditions also risk a larger risk of adult germ cell tumors.    Childhood germ cell tumors are classified by their cause and stage. They are most common in children who are not at risk. Children younger than 6 years should have their treatment planned by a team of health care providers who are experts in treating children with familial CNA (cell tumor).       Clinical trials are taking place in many parts of the country. See the Treatment Options section that follows for links to current treatment clinical trials. These have been retrieved from NCI's listing of clinical trials. \n",
      "CPU times: user 434 ms, sys: 75.8 ms, total: 510 ms\n",
      "Wall time: 50.7 s\n"
     ]
    }
   ],
   "source": [
    "%%time\n",
    "K=50\n",
    "!python ./transformers/examples/text-generation/run_generation.py \\\n",
    "--model_type gpt2 \\\n",
    "--model_name_or_path $OUTPUT_DIR\\\n",
    "--length 500 \\\n",
    "--prompt $input_text\\\n",
    "--stop_token \"<EOS>\" \\\n",
    "--k $K \\\n",
    "--num_return_sequences 2"
   ]
  },
  {
   "cell_type": "code",
   "execution_count": null,
   "metadata": {},
   "outputs": [],
   "source": []
  }
 ],
 "metadata": {
  "kernelspec": {
   "display_name": "Python [conda env:deepNLP2020]",
   "language": "python",
   "name": "conda-env-deepNLP2020-py"
  },
  "language_info": {
   "codemirror_mode": {
    "name": "ipython",
    "version": 3
   },
   "file_extension": ".py",
   "mimetype": "text/x-python",
   "name": "python",
   "nbconvert_exporter": "python",
   "pygments_lexer": "ipython3",
   "version": "3.7.9"
  }
 },
 "nbformat": 4,
 "nbformat_minor": 4
}
