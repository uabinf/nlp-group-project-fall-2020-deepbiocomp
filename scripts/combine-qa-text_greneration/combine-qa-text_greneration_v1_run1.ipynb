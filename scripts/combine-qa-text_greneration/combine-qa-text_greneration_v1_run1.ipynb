{
 "cells": [
  {
   "cell_type": "markdown",
   "metadata": {},
   "source": [
    "## Load packages"
   ]
  },
  {
   "cell_type": "code",
   "execution_count": 1,
   "metadata": {},
   "outputs": [],
   "source": [
    "import torch\n",
    "import transformers\n",
    "\n",
    "import logging\n",
    "import numpy as np\n",
    "\n",
    "import argparse\n",
    "\n",
    "from transformers import (\n",
    "    GPT2LMHeadModel,\n",
    "    GPT2Tokenizer,\n",
    "    OpenAIGPTLMHeadModel,\n",
    "    OpenAIGPTTokenizer,\n",
    "    AutoTokenizer, \n",
    "    AutoModelForQuestionAnswering,\n",
    ")"
   ]
  },
  {
   "cell_type": "markdown",
   "metadata": {},
   "source": [
    "## Function to predict ``Answer`` from BioBERT QA model trained on ``Cancer`` data"
   ]
  },
  {
   "cell_type": "code",
   "execution_count": 2,
   "metadata": {},
   "outputs": [],
   "source": [
    "def ask(tokenizer, model, question, context):\n",
    "    #question = \"What are the symptoms of…rian Germ Cell Tumors ?\"\n",
    "\n",
    "    #context = \"\"\"Signs of ovarian germ cell tumor are swelling of the abdomen or vaginal bleeding after menopause. Ovarian germ cell tumors can be hard to diagnose (find) early. Often there are no symptoms in the early stages, but tumors may be found during regular gynecologic exams (checkups). Check with your doctor if you have either of the following:          - Swollen abdomen without weight gain in other parts of the body.     - Bleeding from the vagina after menopause (when you are no longer having menstrual periods).\"\"\"\n",
    "\n",
    "    inputs = tokenizer.encode_plus(question, context, return_tensors=\"pt\") \n",
    "    answer = model(**inputs)\n",
    "    answer_start = torch.argmax(answer.start_logits)  # get the most likely beginning of answer with the argmax of the score\n",
    "    answer_end = torch.argmax(answer.end_logits) + 1  # get the most likely end of answer with the argmax of the score\n",
    "\n",
    "    ans = tokenizer.convert_tokens_to_string(tokenizer.convert_ids_to_tokens(inputs[\"input_ids\"][0][answer_start:answer_end]))\n",
    "    return ans"
   ]
  },
  {
   "cell_type": "markdown",
   "metadata": {},
   "source": [
    "## Function to predict ``Long Answer`` or ``Summary`` from GPT2 language model trained on ``Cancer`` data"
   ]
  },
  {
   "cell_type": "code",
   "execution_count": 3,
   "metadata": {},
   "outputs": [],
   "source": [
    "logging.basicConfig(\n",
    "    format=\"%(asctime)s - %(levelname)s - %(name)s -   %(message)s\", datefmt=\"%m/%d/%Y %H:%M:%S\", level=logging.INFO,\n",
    ")\n",
    "logger = logging.getLogger(__name__)\n",
    "\n",
    "MAX_LENGTH = int(10000)  # Hardcoded max length to avoid infinite loop\n",
    "\n",
    "MODEL_CLASSES = {\n",
    "    \"gpt2\": (GPT2LMHeadModel, GPT2Tokenizer),\n",
    "    \"openai-gpt\": (OpenAIGPTLMHeadModel, OpenAIGPTTokenizer),\n",
    "}"
   ]
  },
  {
   "cell_type": "code",
   "execution_count": 4,
   "metadata": {},
   "outputs": [],
   "source": [
    "def adjust_length_to_model(length, max_sequence_length):\n",
    "    if length < 0 and max_sequence_length > 0:\n",
    "        length = max_sequence_length\n",
    "    elif 0 < max_sequence_length < length:\n",
    "        length = max_sequence_length  # No generation bigger than model size\n",
    "    elif length < 0:\n",
    "        length = MAX_LENGTH  # avoid infinite loop\n",
    "    return length"
   ]
  },
  {
   "cell_type": "code",
   "execution_count": 5,
   "metadata": {},
   "outputs": [],
   "source": [
    "def main(**kwarg):\n",
    "    \n",
    "    no_cuda = True\n",
    "    device = torch.device(\"cuda\" if torch.cuda.is_available() and not no_cuda else \"cpu\")\n",
    "\n",
    "    # Initialize the model and tokenizer\n",
    "    try:\n",
    "        model_class, tokenizer_class = MODEL_CLASSES[kwarg['model_type']]\n",
    "    except KeyError:\n",
    "        raise KeyError(\"the model {} you specified is not supported. You are welcome to add it and open a PR :)\")\n",
    "\n",
    "    tokenizer = tokenizer_class.from_pretrained(kwarg['model_name_or_path'])\n",
    "    model = model_class.from_pretrained(kwarg['model_name_or_path'])\n",
    "\n",
    "    length = adjust_length_to_model(kwarg['length'], max_sequence_length=model.config.max_position_embeddings)\n",
    "    logger.info(kwarg)\n",
    "\n",
    "    prompt_text = kwarg['prompt'] if kwarg['prompt'] else input(\"Model prompt >>> \")\n",
    "    \n",
    "    encoded_prompt = tokenizer.encode(prompt_text, add_special_tokens=True, return_tensors=\"pt\")\n",
    "    encoded_prompt = encoded_prompt.to(device)\n",
    "\n",
    "    if encoded_prompt.size()[-1] == 0:\n",
    "        input_ids = None\n",
    "    else:\n",
    "        input_ids = encoded_prompt\n",
    "\n",
    "    output_sequences = model.generate(\n",
    "        input_ids=input_ids,\n",
    "        max_length=length + len(encoded_prompt[0]),\n",
    "        temperature= 1.0,\n",
    "        top_k = kwarg['k'],\n",
    "        top_p=0.9,\n",
    "        repetition_penalty=1.0,\n",
    "        do_sample=True,\n",
    "        num_return_sequences = 2\n",
    "    )\n",
    "\n",
    "    # Remove the batch dimension when returning multiple sequences\n",
    "    if len(output_sequences.shape) > 2:\n",
    "        output_sequences.squeeze_()\n",
    "\n",
    "    generated_sequences = []\n",
    "\n",
    "    for generated_sequence_idx, generated_sequence in enumerate(output_sequences):\n",
    "        print(\"=== GENERATED SEQUENCE {} ===\".format(generated_sequence_idx + 1))\n",
    "        generated_sequence = generated_sequence.tolist()\n",
    "\n",
    "        # Decode text\n",
    "        text = tokenizer.decode(generated_sequence, clean_up_tokenization_spaces=True)\n",
    "\n",
    "        # Remove all text after the stop token\n",
    "        text = text[: text.find(kwarg['stop_token']) if kwarg['stop_token'] else None]\n",
    "\n",
    "        # Add the prompt at the beginning of the sequence. Remove the excess text that was used for pre-processing\n",
    "        total_sequence = (\n",
    "            prompt_text + text[len(tokenizer.decode(encoded_prompt[0], clean_up_tokenization_spaces=True)) :]\n",
    "        )\n",
    "\n",
    "        generated_sequences.append(total_sequence)\n",
    "        print(total_sequence)\n",
    "\n",
    "    return generated_sequences"
   ]
  },
  {
   "cell_type": "markdown",
   "metadata": {},
   "source": [
    "## Load pretrained weights"
   ]
  },
  {
   "cell_type": "code",
   "execution_count": 6,
   "metadata": {},
   "outputs": [],
   "source": [
    "tokenizer = AutoTokenizer.from_pretrained(\"../qa_script/BioBERT_cancer\")\n",
    "\n",
    "model = AutoModelForQuestionAnswering.from_pretrained(\"../qa_script/BioBERT_cancer\")"
   ]
  },
  {
   "cell_type": "markdown",
   "metadata": {},
   "source": [
    "## Example 1"
   ]
  },
  {
   "cell_type": "code",
   "execution_count": 7,
   "metadata": {},
   "outputs": [
    {
     "name": "stdout",
     "output_type": "stream",
     "text": [
      "What are the symptoms of…rian Germ Cell Tumors ?\n",
      "Cancer_bioasq:  signs of ovarian germ cell tumor are swelling of the abdomen or vaginal bleeding after menopause.\n"
     ]
    }
   ],
   "source": [
    "question = \"What are the symptoms of…rian Germ Cell Tumors ?\"\n",
    "context = \"\"\"Signs of ovarian germ cell tumor are swelling of the abdomen or vaginal bleeding after menopause. Ovarian germ cell tumors can be hard to diagnose (find) early. Often there are no symptoms in the early stages, but tumors may be found during regular gynecologic exams (checkups). Check with your doctor if you have either of the following:          - Swollen abdomen without weight gain in other parts of the body.     - Bleeding from the vagina after menopause (when you are no longer having menstrual periods).\"\"\"\n",
    "\n",
    "print(question)\n",
    "print(\"Cancer_bioasq: \", ask(tokenizer, model, question, context))"
   ]
  },
  {
   "cell_type": "code",
   "execution_count": 8,
   "metadata": {},
   "outputs": [
    {
     "name": "stderr",
     "output_type": "stream",
     "text": [
      "11/28/2020 14:57:11 - INFO - __main__ -   {'model_type': 'gpt2', 'model_name_or_path': '../text_generation_script/GPT2_text_generator', 'length': 300, 'prompt': 'signs of ovarian germ cell tumor are swelling of the abdomen or vaginal bleeding after menopause.', 'stop_token': '<EOS>', 'k': 30, 'num_return_sequences': 2}\n",
      "Setting `pad_token_id` to `eos_token_id`:50256 for open-end generation.\n"
     ]
    },
    {
     "name": "stdout",
     "output_type": "stream",
     "text": [
      "=== GENERATED SEQUENCE 1 ===\n",
      "signs of ovarian germ cell tumor are swelling of the abdomen or vaginal bleeding after menopause. These and other signs and symptoms may be caused by ovarian germ cell tumor or by other conditions. Check with your doctor if you have any of the following: Weakness or feeling tired. Weight loss with little or no effect on menstrual periods. Vaginal bleeding after menopause. Sometimes pain or swelling in a women's vagina. Fever or night sweats. \n",
      "=== GENERATED SEQUENCE 2 ===\n",
      "signs of ovarian germ cell tumor are swelling of the abdomen or vaginal bleeding after menopause. These and other signs and symptoms may be caused by ovarian germ cell tumor or by other conditions. Check with your doctor if you have any of the following: Swelling of the abdomen or vaginal bleeding after menopause. Trouble starting the flow of urine. Weight loss for no known reason. Trouble emptying the bladder completely after menopause. Pain or feeling of fullness below the ribs on the left side. Fever for no known reason. Easy bruising or bleeding. Pain or feeling of fullness below the ribs on the right side. \n"
     ]
    }
   ],
   "source": [
    "OUTPUT_DIR = '../text_generation_script/GPT2_text_generator'\n",
    "PROMPT = ask(tokenizer, model, question, context)\n",
    "output = main(model_type ='gpt2',\n",
    "              model_name_or_path = OUTPUT_DIR,\n",
    "              length = 300,\n",
    "              prompt = PROMPT,\n",
    "              stop_token = \"<EOS>\",\n",
    "              k = 30,\n",
    "              num_return_sequences = 2)"
   ]
  },
  {
   "cell_type": "code",
   "execution_count": 9,
   "metadata": {},
   "outputs": [
    {
     "name": "stderr",
     "output_type": "stream",
     "text": [
      "11/28/2020 14:59:56 - INFO - __main__ -   {'model_type': 'gpt2', 'model_name_or_path': '../text_generation_script/GPT2_text_generator', 'length': 1000, 'prompt': 'signs of ovarian germ cell tumor are swelling of the abdomen or vaginal bleeding after menopause.', 'stop_token': '<EOS>', 'k': 30, 'num_return_sequences': 2}\n",
      "Setting `pad_token_id` to `eos_token_id`:50256 for open-end generation.\n"
     ]
    },
    {
     "name": "stdout",
     "output_type": "stream",
     "text": [
      "=== GENERATED SEQUENCE 1 ===\n",
      "signs of ovarian germ cell tumor are swelling of the abdomen or vaginal bleeding after menopause. Other conditions can increase the risk of hairy cell leukemia. Check with your doctor if you have any of the following: Pain or swelling in the abdomen. Weakness or feeling tired. Weight loss for no known reason. A menstrual period that does not go away. \n",
      "=== GENERATED SEQUENCE 2 ===\n",
      "signs of ovarian germ cell tumor are swelling of the abdomen or vaginal bleeding after menopause. These and other signs may be caused by ovarian germ cell tumor or by other conditions. Check with your doctor if you have any of the following: Pain or swelling in the abdomen. A lump in the abdomen, vagina, or rectum. Weight loss for no known reason. Pain or a feeling of fullness below the ribs on the left side. Weight loss with no known reason. A dark urinelike color that does not go away. \n"
     ]
    }
   ],
   "source": [
    "output = main(model_type ='gpt2',\n",
    "              model_name_or_path = OUTPUT_DIR,\n",
    "              length = 1000,\n",
    "              prompt = PROMPT,\n",
    "              stop_token = \"<EOS>\",\n",
    "              k = 30,\n",
    "              num_return_sequences = 2)"
   ]
  },
  {
   "cell_type": "markdown",
   "metadata": {},
   "source": [
    "## Example 2"
   ]
  },
  {
   "cell_type": "code",
   "execution_count": 11,
   "metadata": {},
   "outputs": [
    {
     "name": "stdout",
     "output_type": "stream",
     "text": [
      "What are the stages of Vulvar Cancer ?\n",
      "Cancer_bioasq:  stage i stage ii stage iii stage iv after vulvar cancer has been diagnosed, tests are done to find out if cancer cells have spread within the vulva or to other parts of the body.\n"
     ]
    },
    {
     "name": "stderr",
     "output_type": "stream",
     "text": [
      "11/28/2020 15:19:43 - INFO - __main__ -   {'model_type': 'gpt2', 'model_name_or_path': '../text_generation_script/GPT2_text_generator', 'length': 300, 'prompt': 'stage i stage ii stage iii stage iv after vulvar cancer has been diagnosed, tests are done to find out if cancer cells have spread within the vulva or to other parts of the body.', 'stop_token': '<EOS>', 'k': 30, 'num_return_sequences': 2}\n",
      "Setting `pad_token_id` to `eos_token_id`:50256 for open-end generation.\n"
     ]
    },
    {
     "name": "stdout",
     "output_type": "stream",
     "text": [
      "=== GENERATED SEQUENCE 1 ===\n",
      "stage i stage ii stage iii stage iv after vulvar cancer has been diagnosed, tests are done to find out if cancer cells have spread within the vulva or to other parts of the body. Cancer that has spread within the vulva to other parts of the body is called seminoma. A biopsy is done to diagnose seminoma. A biopsy is done during surgery to remove the tumor. Sometimes, a small incision (cut) is made in the vulva and a laparoscope (a thin, lighted tube) is inserted into it. The doctor will usually remove the tumor and a small amount of tissue, after the doctor has removed all the cancer. The tissue sample is checked under a microscope for signs of cancer. A pathologist views the tissue under a microscope to look for cancer cells. If cancer cells are not found, it may not be necessary to remove more tissue. There are three ways that cancer spreads in the body. Cancer can spread through tissue, the lymph system, and the blood: Tissue. The cancer spreads from where it began by growing into nearby areas. Lymph system. The cancer spreads from where it began by getting into the lymph system. The cancer travels through the lymph vessels to other parts of the body. Blood. The cancer spreads from where it began by getting into the blood. The cancer travels through the blood vessels to other parts of the body. Cancer may spread from where it began to other parts of the body through organs and tissues. When cancer spreads to another part of the body, it is called metastasis. Cancer cells break away from where they began (the primary tumor) and travel through the lymph system or blood\n",
      "=== GENERATED SEQUENCE 2 ===\n",
      "stage i stage ii stage iii stage iv after vulvar cancer has been diagnosed, tests are done to find out if cancer cells have spread within the vulva or to other parts of the body. The following stages are used for vulvar cancer: Stage I Stage II Stage III Stage IV Stage V After vulvar cancer has been diagnosed, tests are done to find out if cancer cells have spread within the vulva or to other parts of the body. The process used to find out if cancer has spread within the vulva or to other parts of the body is called staging. The information gathered from the staging process determines the stage of the disease. It is important to know the stage in order to plan treatment. Vulvar cancer in men may affect the risk of developing rectal cancer. Having rectal cancer during surgery can increase the risk of rectal cancer and is called a risk factor. Having rectal cancer in a firstdegree relative (parent, brother, or sister) increases the risk even more. \n"
     ]
    }
   ],
   "source": [
    "question = \"What are the stages of Vulvar Cancer ?\"\n",
    "context = \"\"\"Key Points After vulvar cancer has been diagnosed, tests are done to find out if cancer cells have spread within the vulva or to other parts of the body. There are three ways that cancer spreads in the body. Cancer may spread from where it began to other parts of the body. In vulvar intraepithelial neoplasia (VIN), abnormal cells are found on the surface of the vulvar skin. The following stages are used for vulvar cancer: Stage I Stage II Stage III Stage IV After vulvar cancer has been diagnosed, tests are done to find out if cancer cells have spread within the vulva or to other parts of the body. The process used to find out if cancer has spread within the vulva or to other parts of the body is called staging. The information gathered from the staging process determines the stage of the disease. It is important to know the stage in order to plan treatment. The following tests and procedures may be used in the staging process: Pelvic exam : An exam of the vagina, cervix, uterus, fallopian tubes, ovaries, and rectum. A speculum is inserted into the vagina and the doctor or nurse looks at the vagina and cervix for signs of disease. A Pap test of the cervix is usually done.\"\"\"\n",
    "print(question)\n",
    "print(\"Cancer_bioasq: \", ask(tokenizer, model, question, context))\n",
    "\n",
    "OUTPUT_DIR = '../text_generation_script/GPT2_text_generator'\n",
    "PROMPT = ask(tokenizer, model, question, context)\n",
    "output = main(model_type ='gpt2',\n",
    "              model_name_or_path = OUTPUT_DIR,\n",
    "              length = 300,\n",
    "              prompt = PROMPT,\n",
    "              stop_token = \"<EOS>\",\n",
    "              k = 30,\n",
    "              num_return_sequences = 2)"
   ]
  },
  {
   "cell_type": "code",
   "execution_count": null,
   "metadata": {},
   "outputs": [],
   "source": []
  }
 ],
 "metadata": {
  "kernelspec": {
   "display_name": "Python 3",
   "language": "python",
   "name": "python3"
  },
  "language_info": {
   "codemirror_mode": {
    "name": "ipython",
    "version": 3
   },
   "file_extension": ".py",
   "mimetype": "text/x-python",
   "name": "python",
   "nbconvert_exporter": "python",
   "pygments_lexer": "ipython3",
   "version": "3.7.9"
  }
 },
 "nbformat": 4,
 "nbformat_minor": 4
}
