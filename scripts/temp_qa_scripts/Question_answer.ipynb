{
 "cells": [
  {
   "cell_type": "code",
   "execution_count": null,
   "metadata": {},
   "outputs": [],
   "source": []
  },
  {
   "cell_type": "code",
   "execution_count": 1,
   "metadata": {},
   "outputs": [],
   "source": [
    "from transformers import AutoTokenizer, AutoModelForQuestionAnswering\n",
    "import torch\n",
    "\n",
    "tokenizer_bioasq_o = AutoTokenizer.from_pretrained(\"gdario/biobert_bioasq\")\n",
    "\n",
    "model_bioasq_o = AutoModelForQuestionAnswering.from_pretrained(\"gdario/biobert_bioasq\")"
   ]
  },
  {
   "cell_type": "code",
   "execution_count": 2,
   "metadata": {},
   "outputs": [],
   "source": [
    "from transformers import AutoTokenizer, AutoModelForQuestionAnswering\n",
    "import torch\n",
    "\n",
    "tokenizer = AutoTokenizer.from_pretrained(\"BioBERT_squad1_cancer\")\n",
    "\n",
    "model = AutoModelForQuestionAnswering.from_pretrained(\"BioBERT_squad1_cancer\")"
   ]
  },
  {
   "cell_type": "code",
   "execution_count": 3,
   "metadata": {},
   "outputs": [],
   "source": [
    "from transformers import AutoTokenizer, AutoModelForQuestionAnswering\n",
    "import torch\n",
    "\n",
    "tokenizer_bioBERT = AutoTokenizer.from_pretrained(\"BioBERT_squad2\")\n",
    "\n",
    "model_bioBERT = AutoModelForQuestionAnswering.from_pretrained(\"BioBERT_squad2\")"
   ]
  },
  {
   "cell_type": "code",
   "execution_count": 4,
   "metadata": {},
   "outputs": [],
   "source": [
    "def ask(tokenizer, model, question, context):\n",
    "    #question = \"What are the symptoms of…rian Germ Cell Tumors ?\"\n",
    "\n",
    "    #context = \"\"\"Signs of ovarian germ cell tumor are swelling of the abdomen or vaginal bleeding after menopause. Ovarian germ cell tumors can be hard to diagnose (find) early. Often there are no symptoms in the early stages, but tumors may be found during regular gynecologic exams (checkups). Check with your doctor if you have either of the following:          - Swollen abdomen without weight gain in other parts of the body.     - Bleeding from the vagina after menopause (when you are no longer having menstrual periods).\"\"\"\n",
    "\n",
    "    inputs = tokenizer.encode_plus(question, context, return_tensors=\"pt\") \n",
    "\n",
    "    answer_start_scores, answer_end_scores = model(**inputs)\n",
    "    answer_start = torch.argmax(answer_start_scores)  # get the most likely beginning of answer with the argmax of the score\n",
    "    answer_end = torch.argmax(answer_end_scores) + 1  # get the most likely end of answer with the argmax of the score\n",
    "\n",
    "    ans = tokenizer.convert_tokens_to_string(tokenizer.convert_ids_to_tokens(inputs[\"input_ids\"][0][answer_start:answer_end]))\n",
    "    return ans"
   ]
  },
  {
   "cell_type": "code",
   "execution_count": 11,
   "metadata": {},
   "outputs": [
    {
     "name": "stdout",
     "output_type": "stream",
     "text": [
      "What are the symptoms of…rian Germ Cell Tumors ?\n",
      "Cancer_bioasq:     [CLS]\n",
      "Bioasq_pretrained: swelling of the abdomen or vaginal bleeding after menopause\n",
      "BioBERT_Finetuned: swelling of the abdomen or vaginal bleeding after menopause\n"
     ]
    }
   ],
   "source": [
    "question = \"What are the symptoms of…rian Germ Cell Tumors ?\"\n",
    "context = \"\"\"Signs of ovarian germ cell tumor are swelling of the abdomen or vaginal bleeding after menopause. Ovarian germ cell tumors can be hard to diagnose (find) early. Often there are no symptoms in the early stages, but tumors may be found during regular gynecologic exams (checkups). Check with your doctor if you have either of the following:          - Swollen abdomen without weight gain in other parts of the body.     - Bleeding from the vagina after menopause (when you are no longer having menstrual periods).\"\"\"\n",
    "\n",
    "print(question)\n",
    "print(\"Cancer_bioasq:    \", ask(tokenizer, model, question, context))\n",
    "print(\"Bioasq_pretrained:\", ask(tokenizer_bioasq_o, model_bioasq_o, question, context))\n",
    "print(\"BioBERT_Finetuned:\", ask(tokenizer_bioBERT, model_bioBERT, question, context))"
   ]
  },
  {
   "cell_type": "code",
   "execution_count": 12,
   "metadata": {},
   "outputs": [
    {
     "name": "stdout",
     "output_type": "stream",
     "text": [
      "What is (are) Adult Acute Lymphoblastic Leukemia ?\n",
      "Cancer_bioasq:     [CLS]\n",
      "Bioasq_pretrained: acute lymphocytic leukemia\n",
      "BioBERT_Finetuned: a cancer of the blood and bone marrow\n"
     ]
    }
   ],
   "source": [
    "question = \"What is (are) Adult Acute Lymphoblastic Leukemia ?\"\n",
    "context = \"\"\"Key Points                     - Adult acute lymphoblastic leukemia (ALL) is a type of cancer in which the bone marrow makes too many lymphocytes (a type of white blood cell).    - Leukemia may affect red blood cells, white blood cells, and platelets.    - Previous chemotherapy and exposure to radiation may increase the risk of developing ALL.    - Signs and symptoms of adult ALL include fever, feeling tired, and easy bruising or bleeding.     - Tests that examine the blood and bone marrow are used to detect (find) and diagnose adult ALL.    - Certain factors affect prognosis (chance of recovery) and treatment options.                                                       Adult acute lymphoblastic leukemia (ALL) is a type of cancer in which the bone marrow makes too many lymphocytes (a type of white blood cell).                     Adult acute lymphoblastic leukemia (ALL; also called acute lymphocytic leukemia) is a cancer of the blood and bone marrow. This type of cancer usually gets worse quickly if it is not treated.                                                       Leukemia may affect red blood cells, white blood cells, and platelets.                     Normally, the bone marrow makes blood stem cells (immature cells) that become mature blood cells over time. A blood stem cell may become a myeloid stem cell or a lymphoid stem cell.\"\"\"\n",
    "\"\"\"A myeloid stem cell becomes one of three types of mature blood cells:          -  Red blood cells that carry oxygen and other substances to all tissues of the body.    -  Platelets that form blood clots to stop bleeding.    -  Granulocytes (white blood cells) that fight infection and disease.         A lymphoid stem cell becomes a lymphoblast cell and then one of three types of lymphocytes (white blood cells):         -  B lymphocytes that make antibodies to help fight infection.    -  T lymphocytes that help B lymphocytes make the antibodies that help fight infection.    -  Natural killer cells that attack cancer cells and viruses.         In ALL, too many stem cells become lymphoblasts, B lymphocytes, or T lymphocytes. These cells are also called leukemia cells. These leukemia cells are not able to fight infection very well. Also, as the number of leukemia cells increases in the blood and bone marrow, there is less room for healthy white blood cells, red blood cells, and platelets. This may cause infection, anemia, and easy bleeding. The cancer can also spread to the central nervous system (brain and spinal cord).     This summary is about adult acute lymphoblastic leukemia. See the following PDQ summaries for information about other types of leukemia:          -  Childhood Acute Lymphoblastic Leukemia Treatment.    -  Adult Acute Myeloid Leukemia Treatment.    -  Childhood Acute Myeloid Leukemia/Other Myeloid Malignancies Treatment.    -  Chronic Lymphocytic Leukemia Treatment.    -  Chronic Myelogenous Leukemia Treatment.    -  Hairy Cell Leukemia Treatment.\"\"\"\n",
    "\n",
    "print(question)\n",
    "print(\"Cancer_bioasq:    \", ask(tokenizer, model, question, context))\n",
    "print(\"Bioasq_pretrained:\", ask(tokenizer_bioasq_o, model_bioasq_o, question, context))\n",
    "print(\"BioBERT_Finetuned:\", ask(tokenizer_bioBERT, model_bioBERT, question, context))"
   ]
  },
  {
   "cell_type": "code",
   "execution_count": 13,
   "metadata": {},
   "outputs": [
    {
     "name": "stdout",
     "output_type": "stream",
     "text": [
      "Who is at risk for Small Intestine Cancer?\n",
      "Cancer_bioasq:     [CLS]\n",
      "Bioasq_pretrained: Crohn disease\n",
      "BioBERT_Finetuned: your doctor\n"
     ]
    }
   ],
   "source": [
    "question = \"Who is at risk for Small Intestine Cancer?\"\n",
    "context = \"\"\"Diet and health history can affect the risk of developing small intestine cancer. Anything that increases your risk of getting a disease is called a risk factor. Having a risk factor does not mean that you will get cancer; not having risk factors doesn't mean that you will not get cancer. Talk with your doctor if you think you may be at risk. Risk factors for small intestine cancer include the following:         - Eating a high-fat diet.    - Having Crohn disease.     - Having celiac disease.    -  Having familial adenomatous polyposis (FAP).\"\"\"\n",
    "\n",
    "print(question)\n",
    "print(\"Cancer_bioasq:    \", ask(tokenizer, model, question, context))\n",
    "print(\"Bioasq_pretrained:\", ask(tokenizer_bioasq_o, model_bioasq_o, question, context))\n",
    "print(\"BioBERT_Finetuned:\", ask(tokenizer_bioBERT, model_bioBERT, question, context))"
   ]
  },
  {
   "cell_type": "code",
   "execution_count": 14,
   "metadata": {},
   "outputs": [
    {
     "name": "stdout",
     "output_type": "stream",
     "text": [
      "What are the treatments for Rectal Cancer ?\n",
      "Cancer_bioasq:     [CLS] what are the treatments for rectal cancer ? [SEP] key points - there are different types of treatment for patients with rectal cancer .\n",
      "Bioasq_pretrained: Surgery - Radiation therapy\n",
      "BioBERT_Finetuned: surgery - radiation therapy - chemotherapy - active surveillance - targeted therapy\n"
     ]
    }
   ],
   "source": [
    "question = \"What are the treatments for Rectal Cancer ?\"\n",
    "context = \"\"\"Key Points                     - There are different types of treatment for patients with rectal cancer.    - Five types of standard treatment are used:         - Surgery     - Radiation therapy     - Chemotherapy     - Active surveillance     - Targeted therapy        - Other types of treatment are being tested in clinical trials.    - Patients may want to think about taking part in a clinical trial.\"\"\"\n",
    "\n",
    "print(question)\n",
    "print(\"Cancer_bioasq:    \", ask(tokenizer, model, question, context))\n",
    "print(\"Bioasq_pretrained:\", ask(tokenizer_bioasq_o, model_bioasq_o, question, context))\n",
    "print(\"BioBERT_Finetuned:\", ask(tokenizer_bioBERT, model_bioBERT, question, context))"
   ]
  },
  {
   "cell_type": "code",
   "execution_count": 15,
   "metadata": {},
   "outputs": [
    {
     "name": "stdout",
     "output_type": "stream",
     "text": [
      "What are the treatments for Rectal Cancer ?\n",
      "Cancer_bioasq:     [CLS] what are the treatments for rectal cancer ? [SEP] key points - there are different types of treatment for patients with rectal cancer .\n",
      "Bioasq_pretrained: Surgery - Radiation therapy\n",
      "BioBERT_Finetuned: surgery - radiation therapy - chemotherapy - active surveillance - targeted therapy\n"
     ]
    }
   ],
   "source": [
    "question = \"What are the treatments for Rectal Cancer ?\"\n",
    "context = \"\"\"Key Points                     - There are different types of treatment for patients with rectal cancer.    - Five types of standard treatment are used:         - Surgery     - Radiation therapy     - Chemotherapy     - Active surveillance     - Targeted therapy        - Other types of treatment are being tested in clinical trials.    - Patients may want to think about taking part in a clinical trial.\"\"\"\n",
    "\n",
    "print(question)\n",
    "print(\"Cancer_bioasq:    \", ask(tokenizer, model, question, context))\n",
    "print(\"Bioasq_pretrained:\", ask(tokenizer_bioasq_o, model_bioasq_o, question, context))\n",
    "print(\"BioBERT_Finetuned:\", ask(tokenizer_bioBERT, model_bioBERT, question, context))"
   ]
  },
  {
   "cell_type": "code",
   "execution_count": 16,
   "metadata": {},
   "outputs": [
    {
     "name": "stdout",
     "output_type": "stream",
     "text": [
      "What are the stages of Childhood Brain Stem Glioma ?\n",
      "Cancer_bioasq:     [CLS]\n",
      "Bioasq_pretrained: diffuse intrinsic pontine glioma or a focal glioma\n",
      "BioBERT_Finetuned: either a diffuse intrinsic pontine glioma or a focal glioma\n"
     ]
    }
   ],
   "source": [
    "question = \"What are the stages of Childhood Brain Stem Glioma ?\"\n",
    "context = \"\"\"\n",
    "Key Points                     - The plan for cancer treatment depends on whether the tumor is in one area of the brain or has spread all through the brain.                                                       The plan for cancer treatment depends on whether the tumor is in one area of the brain or has spread all through the brain.                     Staging is the process used to find out how much cancer there is and if cancer has spread. It is important to know the stage in order to plan treatment.    There is no standard staging system for childhood brain stem glioma. Treatment is based on the following:         - Whether the tumor is newly diagnosed or recurrent (has come back after treatment).    - The type of tumor (either a diffuse intrinsic pontine glioma or a focal glioma).\n",
    "\n",
    "\"\"\"\n",
    "\n",
    "print(question)\n",
    "print(\"Cancer_bioasq:    \", ask(tokenizer, model, question, context))\n",
    "print(\"Bioasq_pretrained:\", ask(tokenizer_bioasq_o, model_bioasq_o, question, context))\n",
    "print(\"BioBERT_Finetuned:\", ask(tokenizer_bioBERT, model_bioBERT, question, context))"
   ]
  },
  {
   "cell_type": "code",
   "execution_count": 17,
   "metadata": {},
   "outputs": [
    {
     "name": "stdout",
     "output_type": "stream",
     "text": [
      "Who is at risk for Childhood Central Nervous System Embryonal Tumors? ?\n",
      "Cancer_bioasq:     certain genetic conditions increase the risk of childhood cns embryonal tumors .\n",
      "Bioasq_pretrained: Rubinstein - Taybi syndrome\n",
      "BioBERT_Finetuned: certain genetic conditions\n"
     ]
    }
   ],
   "source": [
    "question = \"Who is at risk for Childhood Central Nervous System Embryonal Tumors? ?\"\n",
    "context = \"\"\"\n",
    "Certain genetic conditions increase the risk of childhood CNS embryonal tumors. Anything that increases the risk of getting a disease is called a risk factor. Having a risk factor does not mean that you will get cancer; not having risk factors doesnt mean that you will not get cancer. Talk with your childs doctor if you think your child may be at risk.    Risk factors for CNS embryonal tumors include having the following inherited diseases:         -  Turcot syndrome.    -  Rubinstein-Taybi syndrome.    -  Nevoid basal cell carcinoma (Gorlin) syndrome.    -  Li-Fraumeni syndrome.    -  Fanconi anemia.        In most cases, the cause of CNS embryonal tumors is not known.\n",
    "\"\"\"\n",
    "\n",
    "print(question)\n",
    "print(\"Cancer_bioasq:    \", ask(tokenizer, model, question, context))\n",
    "print(\"Bioasq_pretrained:\", ask(tokenizer_bioasq_o, model_bioasq_o, question, context))\n",
    "print(\"BioBERT_Finetuned:\", ask(tokenizer_bioBERT, model_bioBERT, question, context))"
   ]
  },
  {
   "cell_type": "code",
   "execution_count": null,
   "metadata": {},
   "outputs": [],
   "source": []
  }
 ],
 "metadata": {
  "kernelspec": {
   "display_name": "Python [conda env:deepNLP2020]",
   "language": "python",
   "name": "conda-env-deepNLP2020-py"
  },
  "language_info": {
   "codemirror_mode": {
    "name": "ipython",
    "version": 3
   },
   "file_extension": ".py",
   "mimetype": "text/x-python",
   "name": "python",
   "nbconvert_exporter": "python",
   "pygments_lexer": "ipython3",
   "version": "3.7.9"
  }
 },
 "nbformat": 4,
 "nbformat_minor": 4
}
