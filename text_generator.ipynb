{
 "cells": [
  {
   "cell_type": "code",
   "execution_count": 1,
   "metadata": {},
   "outputs": [],
   "source": [
    "import torch\n",
    "import transformers\n",
    "import pandas as pd\n",
    "from sklearn.model_selection import train_test_split\n",
    "import re"
   ]
  },
  {
   "cell_type": "code",
   "execution_count": 2,
   "metadata": {},
   "outputs": [],
   "source": [
    "# N=1\n",
    "# OUTPUT_DIR='./output'\n",
    "# TRAIN_FILE='./test.txt'\n",
    "# VALID_FILE='./test.txt'\n",
    "# MODEL = ''"
   ]
  },
  {
   "cell_type": "code",
   "execution_count": 3,
   "metadata": {},
   "outputs": [],
   "source": [
    "OUTPUT_DIR='./output/'\n",
    "TRAIN_FILE='./dataset/prepared-data/text-generation/train_text-generation.txt'\n",
    "VALID_FILE='./dataset/prepared-data/text-generation/dev_text-generation.txt'"
   ]
  },
  {
   "cell_type": "code",
   "execution_count": 4,
   "metadata": {},
   "outputs": [
    {
     "name": "stdout",
     "output_type": "stream",
     "text": [
      "/data/user/mtsami/NLP/Project\r\n"
     ]
    }
   ],
   "source": [
    "!pwd"
   ]
  },
  {
   "cell_type": "markdown",
   "metadata": {},
   "source": [
    "## Fine-tune GPT2 language model to dataset"
   ]
  },
  {
   "cell_type": "code",
   "execution_count": 5,
   "metadata": {},
   "outputs": [
    {
     "name": "stdout",
     "output_type": "stream",
     "text": [
      "2020-11-23 12:59:57.371956: W tensorflow/stream_executor/platform/default/dso_loader.cc:59] Could not load dynamic library 'libcudart.so.10.1'; dlerror: libcudart.so.10.1: cannot open shared object file: No such file or directory; LD_LIBRARY_PATH: /cm/shared/apps/cuda10.0/toolkit/10.0.130/extras/CUPTI/lib64:/cm/local/apps/cuda/libs/current/lib64:/cm/shared/apps/cuda10.0/toolkit/10.0.130/targets/x86_64-linux/lib:/cm/shared/apps/slurm/18.08.9/lib64/slurm:/cm/shared/apps/slurm/18.08.9/lib64\n",
      "2020-11-23 12:59:57.371997: I tensorflow/stream_executor/cuda/cudart_stub.cc:29] Ignore above cudart dlerror if you do not have a GPU set up on your machine.\n",
      "11/23/2020 13:00:19 - WARNING - __main__ -   Process rank: -1, device: cuda:0, n_gpu: 1, distributed training: False, 16-bits training: False\n",
      "11/23/2020 13:00:19 - INFO - __main__ -   Training/evaluation parameters TrainingArguments(output_dir='./output', overwrite_output_dir=True, do_train=True, do_eval=True, do_predict=False, evaluation_strategy=<EvaluationStrategy.NO: 'no'>, prediction_loss_only=False, per_device_train_batch_size=2, per_device_eval_batch_size=2, per_gpu_train_batch_size=None, per_gpu_eval_batch_size=None, gradient_accumulation_steps=1, eval_accumulation_steps=None, learning_rate=5e-05, weight_decay=0.0, adam_beta1=0.9, adam_beta2=0.999, adam_epsilon=1e-08, max_grad_norm=1.0, num_train_epochs=1.0, max_steps=-1, warmup_steps=0, logging_dir='runs/Nov23_13-00-19_c0097', logging_first_step=False, logging_steps=500, save_steps=500, save_total_limit=None, no_cuda=False, seed=42, fp16=False, fp16_opt_level='O1', local_rank=-1, tpu_num_cores=None, tpu_metrics_debug=False, debug=False, dataloader_drop_last=False, eval_steps=500, dataloader_num_workers=0, past_index=-1, run_name='./output', disable_tqdm=False, remove_unused_columns=True, label_names=None, load_best_model_at_end=False, metric_for_best_model=None, greater_is_better=None)\n",
      "/home/mtsami/.local/lib/python3.7/site-packages/transformers/models/auto/modeling_auto.py:852: FutureWarning: The class `AutoModelWithLMHead` is deprecated and will be removed in a future version. Please use `AutoModelForCausalLM` for causal language models, `AutoModelForMaskedLM` for masked language models and `AutoModelForSeq2SeqLM` for encoder-decoder models.\n",
      "  FutureWarning,\n",
      "/home/mtsami/.local/lib/python3.7/site-packages/transformers/data/datasets/language_modeling.py:114: FutureWarning: This dataset will be removed from the library soon, preprocessing should be handled with the 🤗 Datasets library. You can have a look at this example script for pointers: https://github.com/huggingface/transformers/blob/master/examples/language-modeling/run_mlm.py\n",
      "  FutureWarning,\n",
      "{'loss': 4.34730517578125, 'learning_rate': 1.9806763285024154e-05, 'epoch': 0.6038647342995169}\n",
      "{'epoch': 1.0}                                                                  \n",
      "100%|█████████████████████████████████████████| 828/828 [03:48<00:00,  3.62it/s]\n",
      "11/23/2020 13:04:20 - INFO - __main__ -   *** Evaluate ***\n",
      "100%|█████████████████████████████████████████| 828/828 [01:08<00:00, 12.07it/s]\n",
      "11/23/2020 13:05:28 - INFO - __main__ -   ***** Eval results *****\n",
      "11/23/2020 13:05:28 - INFO - __main__ -     perplexity = 28.831252945119534\n"
     ]
    }
   ],
   "source": [
    "# %%time\n",
    "# !python3 ./transformers/examples/language-modeling/run_language_modeling.py \\\n",
    "# --output_dir $OUTPUT_DIR \\\n",
    "# --model_type gpt2\\\n",
    "# --model_name_or_path gpt2\\\n",
    "# --do_train \\\n",
    "# --train_data_file $TRAIN_FILE \\\n",
    "# --do_eval \\\n",
    "# --eval_data_file $VALID_FILE \\\n",
    "# --per_device_train_batch_size=2 \\\n",
    "# --per_device_eval_batch_size=2 \\\n",
    "# --line_by_line \\\n",
    "# --overwrite_output_dir\\\n",
    "# --learning_rate=5e-5 \\\n",
    "# --num_train_epochs=1"
   ]
  },
  {
   "cell_type": "markdown",
   "metadata": {},
   "source": [
    "## Used fine-tuned GPT2 model for text generation"
   ]
  },
  {
   "cell_type": "code",
   "execution_count": 13,
   "metadata": {},
   "outputs": [],
   "source": [
    "#PROMPT = \"<BOS> Adult acute lymphoblastic leukemia (ALL) is a type of cancer in which the bone marrow makes too many lymphocytes (a type of white blood cell).\"\n",
    "#PROMPT = \"Adult acute lymphoblastic leukemia\"\n",
    "#PROMPT = \"<BOS>\""
   ]
  },
  {
   "cell_type": "code",
   "execution_count": 5,
   "metadata": {},
   "outputs": [
    {
     "name": "stdout",
     "output_type": "stream",
     "text": [
      "2020-11-23 13:12:38.266280: W tensorflow/stream_executor/platform/default/dso_loader.cc:59] Could not load dynamic library 'libcudart.so.10.1'; dlerror: libcudart.so.10.1: cannot open shared object file: No such file or directory; LD_LIBRARY_PATH: /cm/shared/apps/cuda10.0/toolkit/10.0.130/extras/CUPTI/lib64:/cm/local/apps/cuda/libs/current/lib64:/cm/shared/apps/cuda10.0/toolkit/10.0.130/targets/x86_64-linux/lib:/cm/shared/apps/slurm/18.08.9/lib64/slurm:/cm/shared/apps/slurm/18.08.9/lib64\n",
      "2020-11-23 13:12:38.266328: I tensorflow/stream_executor/cuda/cudart_stub.cc:29] Ignore above cudart dlerror if you do not have a GPU set up on your machine.\n",
      "11/23/2020 13:13:09 - INFO - __main__ -   Namespace(device=device(type='cuda'), k=10, length=100, model_name_or_path='./output', model_type='gpt2', n_gpu=1, no_cuda=False, num_return_sequences=1, p=0.9, padding_text='', prompt='Adult acute lymphoblastic leukemia', repetition_penalty=1.0, seed=42, stop_token='<EOS>', temperature=1.0, xlm_language='')\n",
      "Setting `pad_token_id` to `eos_token_id`:50256 for open-end generation.\n",
      "=== GENERATED SEQUENCE 1 ===\n",
      "Adult acute lymphoblastic leukemia, the most severe form of lymphoma, occurs when the lymphatic system is severely damaged, with no viable cells or tissue to repair the damaged cells. The lymphatic system is a critical part of the immune system and has an enormous impact on the immune system and the health of people who have it, such as children who are infected with the same type of leukemia or those who suffer from a similar disease. Because of this, some people are born with a high level of lymphocyte count, \n",
      "CPU times: user 405 ms, sys: 94.5 ms, total: 500 ms\n",
      "Wall time: 44 s\n"
     ]
    }
   ],
   "source": [
    "%%time\n",
    "K = 10\n",
    "!python ./transformers/examples/text-generation/run_generation.py \\\n",
    "--model_type gpt2 \\\n",
    "--model_name_or_path $OUTPUT_DIR \\\n",
    "--length 100 \\\n",
    "--prompt \"Adult acute lymphoblastic leukemia\"\\\n",
    "--stop_token \"<EOS>\" \\\n",
    "--k $K \\\n",
    "--num_return_sequences 1"
   ]
  },
  {
   "cell_type": "code",
   "execution_count": null,
   "metadata": {},
   "outputs": [],
   "source": []
  }
 ],
 "metadata": {
  "kernelspec": {
   "display_name": "Python [conda env:deepNLP2020]",
   "language": "python",
   "name": "conda-env-deepNLP2020-py"
  },
  "language_info": {
   "codemirror_mode": {
    "name": "ipython",
    "version": 3
   },
   "file_extension": ".py",
   "mimetype": "text/x-python",
   "name": "python",
   "nbconvert_exporter": "python",
   "pygments_lexer": "ipython3",
   "version": "3.7.9"
  }
 },
 "nbformat": 4,
 "nbformat_minor": 4
}
