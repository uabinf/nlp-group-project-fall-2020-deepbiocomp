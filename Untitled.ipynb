{
 "cells": [
  {
   "cell_type": "code",
   "execution_count": 1,
   "metadata": {},
   "outputs": [],
   "source": [
    "import torch\n",
    "import transformers\n",
    "import pandas as pd\n",
    "from sklearn.model_selection import train_test_split\n",
    "import re"
   ]
  },
  {
   "cell_type": "markdown",
   "metadata": {},
   "source": [
    "## Data Processing"
   ]
  },
  {
   "cell_type": "code",
   "execution_count": 4,
   "metadata": {},
   "outputs": [],
   "source": [
    "#Clone the transformers repo from HuggingFace\n",
    "import os\n",
    "\n",
    "if os.path.isdir(\"./transformers\"):\n",
    "    pass\n",
    "else:  \n",
    "    !git clone https://github.com/huggingface/transformers\n",
    "    %cd transformers\n",
    "    !pip install .\n",
    "    !pip install -r ./examples/requirements.txt\n",
    "    %cd .."
   ]
  },
  {
   "cell_type": "code",
   "execution_count": 5,
   "metadata": {},
   "outputs": [
    {
     "data": {
      "text/html": [
       "<div>\n",
       "<style scoped>\n",
       "    .dataframe tbody tr th:only-of-type {\n",
       "        vertical-align: middle;\n",
       "    }\n",
       "\n",
       "    .dataframe tbody tr th {\n",
       "        vertical-align: top;\n",
       "    }\n",
       "\n",
       "    .dataframe thead th {\n",
       "        text-align: right;\n",
       "    }\n",
       "</style>\n",
       "<table border=\"1\" class=\"dataframe\">\n",
       "  <thead>\n",
       "    <tr style=\"text-align: right;\">\n",
       "      <th></th>\n",
       "      <th>wiki_id</th>\n",
       "      <th>freebase_id</th>\n",
       "      <th>title</th>\n",
       "      <th>author</th>\n",
       "      <th>date</th>\n",
       "      <th>genres</th>\n",
       "      <th>summary</th>\n",
       "    </tr>\n",
       "  </thead>\n",
       "  <tbody>\n",
       "    <tr>\n",
       "      <th>0</th>\n",
       "      <td>620</td>\n",
       "      <td>/m/0hhy</td>\n",
       "      <td>Animal Farm</td>\n",
       "      <td>George Orwell</td>\n",
       "      <td>1945-08-17</td>\n",
       "      <td>{\"/m/016lj8\": \"Roman \\u00e0 clef\", \"/m/06nbt\":...</td>\n",
       "      <td>Old Major, the old boar on the Manor Farm, ca...</td>\n",
       "    </tr>\n",
       "    <tr>\n",
       "      <th>1</th>\n",
       "      <td>843</td>\n",
       "      <td>/m/0k36</td>\n",
       "      <td>A Clockwork Orange</td>\n",
       "      <td>Anthony Burgess</td>\n",
       "      <td>1962</td>\n",
       "      <td>{\"/m/06n90\": \"Science Fiction\", \"/m/0l67h\": \"N...</td>\n",
       "      <td>Alex, a teenager living in near-future Englan...</td>\n",
       "    </tr>\n",
       "    <tr>\n",
       "      <th>2</th>\n",
       "      <td>986</td>\n",
       "      <td>/m/0ldx</td>\n",
       "      <td>The Plague</td>\n",
       "      <td>Albert Camus</td>\n",
       "      <td>1947</td>\n",
       "      <td>{\"/m/02m4t\": \"Existentialism\", \"/m/02xlf\": \"Fi...</td>\n",
       "      <td>The text of The Plague is divided into five p...</td>\n",
       "    </tr>\n",
       "    <tr>\n",
       "      <th>3</th>\n",
       "      <td>1756</td>\n",
       "      <td>/m/0sww</td>\n",
       "      <td>An Enquiry Concerning Human Understanding</td>\n",
       "      <td>David Hume</td>\n",
       "      <td>NaN</td>\n",
       "      <td>NaN</td>\n",
       "      <td>The argument of the Enquiry proceeds by a ser...</td>\n",
       "    </tr>\n",
       "    <tr>\n",
       "      <th>4</th>\n",
       "      <td>2080</td>\n",
       "      <td>/m/0wkt</td>\n",
       "      <td>A Fire Upon the Deep</td>\n",
       "      <td>Vernor Vinge</td>\n",
       "      <td>NaN</td>\n",
       "      <td>{\"/m/03lrw\": \"Hard science fiction\", \"/m/06n90...</td>\n",
       "      <td>The novel posits that space around the Milky ...</td>\n",
       "    </tr>\n",
       "    <tr>\n",
       "      <th>...</th>\n",
       "      <td>...</td>\n",
       "      <td>...</td>\n",
       "      <td>...</td>\n",
       "      <td>...</td>\n",
       "      <td>...</td>\n",
       "      <td>...</td>\n",
       "      <td>...</td>\n",
       "    </tr>\n",
       "    <tr>\n",
       "      <th>16554</th>\n",
       "      <td>36934824</td>\n",
       "      <td>/m/0m0p0hr</td>\n",
       "      <td>Under Wildwood</td>\n",
       "      <td>Colin Meloy</td>\n",
       "      <td>2012-09-25</td>\n",
       "      <td>NaN</td>\n",
       "      <td>Prue McKeel, having rescued her brother from ...</td>\n",
       "    </tr>\n",
       "    <tr>\n",
       "      <th>16555</th>\n",
       "      <td>37054020</td>\n",
       "      <td>/m/04f1nbs</td>\n",
       "      <td>Transfer of Power</td>\n",
       "      <td>Vince Flynn</td>\n",
       "      <td>2000-06-01</td>\n",
       "      <td>{\"/m/01jfsb\": \"Thriller\", \"/m/02xlf\": \"Fiction\"}</td>\n",
       "      <td>The reader first meets Rapp while he is doing...</td>\n",
       "    </tr>\n",
       "    <tr>\n",
       "      <th>16556</th>\n",
       "      <td>37122323</td>\n",
       "      <td>/m/0n5236t</td>\n",
       "      <td>Decoded</td>\n",
       "      <td>Jay-Z</td>\n",
       "      <td>2010-11-16</td>\n",
       "      <td>{\"/m/0xdf\": \"Autobiography\"}</td>\n",
       "      <td>The book follows very rough chronological ord...</td>\n",
       "    </tr>\n",
       "    <tr>\n",
       "      <th>16557</th>\n",
       "      <td>37132319</td>\n",
       "      <td>/m/0n4bqb1</td>\n",
       "      <td>America Again: Re-becoming The Greatness We Ne...</td>\n",
       "      <td>Stephen Colbert</td>\n",
       "      <td>2012-10-02</td>\n",
       "      <td>NaN</td>\n",
       "      <td>Colbert addresses topics including Wall Stree...</td>\n",
       "    </tr>\n",
       "    <tr>\n",
       "      <th>16558</th>\n",
       "      <td>37159503</td>\n",
       "      <td>/m/073nkd</td>\n",
       "      <td>Poor Folk</td>\n",
       "      <td>Fyodor Dostoyevsky</td>\n",
       "      <td>1846</td>\n",
       "      <td>{\"/m/02ql9\": \"Epistolary novel\", \"/m/014dfn\": ...</td>\n",
       "      <td>Makar Devushkin and Varvara Dobroselova are s...</td>\n",
       "    </tr>\n",
       "  </tbody>\n",
       "</table>\n",
       "<p>16559 rows × 7 columns</p>\n",
       "</div>"
      ],
      "text/plain": [
       "        wiki_id freebase_id  \\\n",
       "0           620     /m/0hhy   \n",
       "1           843     /m/0k36   \n",
       "2           986     /m/0ldx   \n",
       "3          1756     /m/0sww   \n",
       "4          2080     /m/0wkt   \n",
       "...         ...         ...   \n",
       "16554  36934824  /m/0m0p0hr   \n",
       "16555  37054020  /m/04f1nbs   \n",
       "16556  37122323  /m/0n5236t   \n",
       "16557  37132319  /m/0n4bqb1   \n",
       "16558  37159503   /m/073nkd   \n",
       "\n",
       "                                                   title              author  \\\n",
       "0                                            Animal Farm       George Orwell   \n",
       "1                                     A Clockwork Orange     Anthony Burgess   \n",
       "2                                             The Plague        Albert Camus   \n",
       "3              An Enquiry Concerning Human Understanding          David Hume   \n",
       "4                                   A Fire Upon the Deep        Vernor Vinge   \n",
       "...                                                  ...                 ...   \n",
       "16554                                     Under Wildwood         Colin Meloy   \n",
       "16555                                  Transfer of Power         Vince Flynn   \n",
       "16556                                            Decoded               Jay-Z   \n",
       "16557  America Again: Re-becoming The Greatness We Ne...     Stephen Colbert   \n",
       "16558                                          Poor Folk  Fyodor Dostoyevsky   \n",
       "\n",
       "             date                                             genres  \\\n",
       "0      1945-08-17  {\"/m/016lj8\": \"Roman \\u00e0 clef\", \"/m/06nbt\":...   \n",
       "1            1962  {\"/m/06n90\": \"Science Fiction\", \"/m/0l67h\": \"N...   \n",
       "2            1947  {\"/m/02m4t\": \"Existentialism\", \"/m/02xlf\": \"Fi...   \n",
       "3             NaN                                                NaN   \n",
       "4             NaN  {\"/m/03lrw\": \"Hard science fiction\", \"/m/06n90...   \n",
       "...           ...                                                ...   \n",
       "16554  2012-09-25                                                NaN   \n",
       "16555  2000-06-01   {\"/m/01jfsb\": \"Thriller\", \"/m/02xlf\": \"Fiction\"}   \n",
       "16556  2010-11-16                       {\"/m/0xdf\": \"Autobiography\"}   \n",
       "16557  2012-10-02                                                NaN   \n",
       "16558        1846  {\"/m/02ql9\": \"Epistolary novel\", \"/m/014dfn\": ...   \n",
       "\n",
       "                                                 summary  \n",
       "0       Old Major, the old boar on the Manor Farm, ca...  \n",
       "1       Alex, a teenager living in near-future Englan...  \n",
       "2       The text of The Plague is divided into five p...  \n",
       "3       The argument of the Enquiry proceeds by a ser...  \n",
       "4       The novel posits that space around the Milky ...  \n",
       "...                                                  ...  \n",
       "16554   Prue McKeel, having rescued her brother from ...  \n",
       "16555   The reader first meets Rapp while he is doing...  \n",
       "16556   The book follows very rough chronological ord...  \n",
       "16557   Colbert addresses topics including Wall Stree...  \n",
       "16558   Makar Devushkin and Varvara Dobroselova are s...  \n",
       "\n",
       "[16559 rows x 7 columns]"
      ]
     },
     "execution_count": 5,
     "metadata": {},
     "output_type": "execute_result"
    }
   ],
   "source": [
    "df = pd.read_csv('dataset/booksummaries.txt', sep='\\t', names=['wiki_id', 'freebase_id', 'title', 'author', 'date', 'genres', 'summary'])\n",
    "df"
   ]
  },
  {
   "cell_type": "code",
   "execution_count": 6,
   "metadata": {},
   "outputs": [],
   "source": [
    "train_test_ratio = 0.9\n",
    "train_valid_ratio = 7/9\n",
    "df_full_train, df_test = train_test_split(df, train_size = train_test_ratio, random_state = 1)\n",
    "df_train, df_valid = train_test_split(df_full_train, train_size = train_valid_ratio, random_state = 1)"
   ]
  },
  {
   "cell_type": "code",
   "execution_count": 7,
   "metadata": {},
   "outputs": [],
   "source": [
    "def build_dataset(df, dest_path):\n",
    "    f = open(dest_path, 'w')\n",
    "    data = ''\n",
    "    summaries = df['summary'].tolist()\n",
    "    for summary in summaries:\n",
    "        summary = str(summary).strip()\n",
    "        summary = re.sub(r\"\\s\", \" \", summary)\n",
    "        bos_token = '<BOS>'\n",
    "        eos_token = '<EOS>'\n",
    "        data += bos_token + ' ' + summary + ' ' + eos_token + '\\n'\n",
    "        \n",
    "    f.write(data)"
   ]
  },
  {
   "cell_type": "code",
   "execution_count": 8,
   "metadata": {},
   "outputs": [],
   "source": [
    "build_dataset(df_train, 'train.txt')\n",
    "build_dataset(df_valid, 'valid.txt')\n",
    "build_dataset(df_test, 'test.txt')"
   ]
  },
  {
   "cell_type": "code",
   "execution_count": 2,
   "metadata": {},
   "outputs": [],
   "source": [
    "N=1\n",
    "OUTPUT_DIR='./output'\n",
    "TRAIN_FILE='./test.txt'\n",
    "VALID_FILE='./test.txt'\n",
    "MODEL = ''"
   ]
  },
  {
   "cell_type": "code",
   "execution_count": 3,
   "metadata": {},
   "outputs": [
    {
     "name": "stdout",
     "output_type": "stream",
     "text": [
      "/data/user/mtsami/NLP/Project\r\n"
     ]
    }
   ],
   "source": [
    "!pwd"
   ]
  },
  {
   "cell_type": "code",
   "execution_count": 4,
   "metadata": {},
   "outputs": [],
   "source": [
    "# !python3 ./transformers/examples/language-modeling/run_clm.py\\\n",
    "# --model_name_or_path gpt2 \\\n",
    "# --train_file $TRAIN_FILE\\\n",
    "# --validation_file $VALID_FILE \\\n",
    "# --do_train \\\n",
    "# --do_eval \\\n",
    "# --output_dir $OUTPUT_DIR \\\n",
    "# --learning_rate 5e-5 \\\n",
    "# --num_train_epochs 1"
   ]
  },
  {
   "cell_type": "code",
   "execution_count": 5,
   "metadata": {},
   "outputs": [
    {
     "name": "stdout",
     "output_type": "stream",
     "text": [
      "2020-11-19 22:46:38.236354: W tensorflow/stream_executor/platform/default/dso_loader.cc:59] Could not load dynamic library 'libcudart.so.10.1'; dlerror: libcudart.so.10.1: cannot open shared object file: No such file or directory; LD_LIBRARY_PATH: /cm/shared/apps/cuda10.0/toolkit/10.0.130/extras/CUPTI/lib64:/cm/local/apps/cuda/libs/current/lib64:/cm/shared/apps/cuda10.0/toolkit/10.0.130/targets/x86_64-linux/lib:/cm/shared/apps/slurm/18.08.9/lib64/slurm:/cm/shared/apps/slurm/18.08.9/lib64\n",
      "2020-11-19 22:46:38.236390: I tensorflow/stream_executor/cuda/cudart_stub.cc:29] Ignore above cudart dlerror if you do not have a GPU set up on your machine.\n",
      "11/19/2020 22:46:59 - WARNING - __main__ -   Process rank: -1, device: cuda:0, n_gpu: 1, distributed training: False, 16-bits training: False\n",
      "11/19/2020 22:46:59 - INFO - __main__ -   Training/evaluation parameters TrainingArguments(output_dir='./output', overwrite_output_dir=True, do_train=True, do_eval=True, do_predict=False, evaluation_strategy=<EvaluationStrategy.NO: 'no'>, prediction_loss_only=False, per_device_train_batch_size=2, per_device_eval_batch_size=2, per_gpu_train_batch_size=None, per_gpu_eval_batch_size=None, gradient_accumulation_steps=1, eval_accumulation_steps=None, learning_rate=5e-05, weight_decay=0.0, adam_beta1=0.9, adam_beta2=0.999, adam_epsilon=1e-08, max_grad_norm=1.0, num_train_epochs=1.0, max_steps=-1, warmup_steps=0, logging_dir='runs/Nov19_22-46-59_c0107', logging_first_step=False, logging_steps=500, save_steps=500, save_total_limit=None, no_cuda=False, seed=42, fp16=False, fp16_opt_level='O1', local_rank=-1, tpu_num_cores=None, tpu_metrics_debug=False, debug=False, dataloader_drop_last=False, eval_steps=500, dataloader_num_workers=0, past_index=-1, run_name='./output', disable_tqdm=False, remove_unused_columns=True, label_names=None, load_best_model_at_end=False, metric_for_best_model=None, greater_is_better=None)\n",
      "/home/mtsami/.local/lib/python3.7/site-packages/transformers/models/auto/modeling_auto.py:852: FutureWarning: The class `AutoModelWithLMHead` is deprecated and will be removed in a future version. Please use `AutoModelForCausalLM` for causal language models, `AutoModelForMaskedLM` for masked language models and `AutoModelForSeq2SeqLM` for encoder-decoder models.\n",
      "  FutureWarning,\n",
      "/home/mtsami/.local/lib/python3.7/site-packages/transformers/data/datasets/language_modeling.py:114: FutureWarning: This dataset will be removed from the library soon, preprocessing should be handled with the 🤗 Datasets library. You can have a look at this example script for pointers: https://github.com/huggingface/transformers/blob/master/examples/language-modeling/run_mlm.py\n",
      "  FutureWarning,\n",
      "{'loss': 4.34730517578125, 'learning_rate': 1.9806763285024154e-05, 'epoch': 0.6038647342995169}\n",
      "{'epoch': 1.0}                                                                  \n",
      "100%|█████████████████████████████████████████| 828/828 [03:41<00:00,  3.74it/s]\n",
      "11/19/2020 22:50:53 - INFO - __main__ -   *** Evaluate ***\n",
      "100%|█████████████████████████████████████████| 828/828 [01:08<00:00, 12.06it/s]\n",
      "11/19/2020 22:52:01 - INFO - __main__ -   ***** Eval results *****\n",
      "11/19/2020 22:52:01 - INFO - __main__ -     perplexity = 28.831252945119534\n"
     ]
    }
   ],
   "source": [
    "!python3 ./transformers/examples/language-modeling/run_language_modeling.py \\\n",
    "--output_dir $OUTPUT_DIR \\\n",
    "--model_type gpt2\\\n",
    "--model_name_or_path gpt2\\\n",
    "--do_train \\\n",
    "--train_data_file $TRAIN_FILE \\\n",
    "--do_eval \\\n",
    "--eval_data_file $VALID_FILE \\\n",
    "--per_device_train_batch_size=2 \\\n",
    "--per_device_eval_batch_size=2 \\\n",
    "--line_by_line \\\n",
    "--overwrite_output_dir\\\n",
    "--learning_rate=5e-5 \\\n",
    "--num_train_epochs=1"
   ]
  },
  {
   "cell_type": "code",
   "execution_count": 6,
   "metadata": {},
   "outputs": [
    {
     "name": "stdout",
     "output_type": "stream",
     "text": [
      "2020-11-19 22:53:02.139419: W tensorflow/stream_executor/platform/default/dso_loader.cc:59] Could not load dynamic library 'libcudart.so.10.1'; dlerror: libcudart.so.10.1: cannot open shared object file: No such file or directory; LD_LIBRARY_PATH: /cm/shared/apps/cuda10.0/toolkit/10.0.130/extras/CUPTI/lib64:/cm/local/apps/cuda/libs/current/lib64:/cm/shared/apps/cuda10.0/toolkit/10.0.130/targets/x86_64-linux/lib:/cm/shared/apps/slurm/18.08.9/lib64/slurm:/cm/shared/apps/slurm/18.08.9/lib64\n",
      "2020-11-19 22:53:02.139470: I tensorflow/stream_executor/cuda/cudart_stub.cc:29] Ignore above cudart dlerror if you do not have a GPU set up on your machine.\n",
      "11/19/2020 22:53:36 - INFO - __main__ -   Namespace(device=device(type='cuda'), k=10, length=300, model_name_or_path='./output', model_type='gpt2', n_gpu=1, no_cuda=False, num_return_sequences=1, p=0.9, padding_text='', prompt='Adult acute lymphoblastic leukemia (ALL) is a type of cancer in which the bone marrow makes too many lymphocytes (a type of white blood cell).', repetition_penalty=1.0, seed=42, stop_token='<EOS>', temperature=1.0, xlm_language='')\n",
      "Setting `pad_token_id` to `eos_token_id`:50256 for open-end generation.\n",
      "=== GENERATED SEQUENCE 1 ===\n",
      "Adult acute lymphoblastic leukemia (ALL) is a type of cancer in which the bone marrow makes too many lymphocytes (a type of white blood cell). It is caused by a mutation in the melanocytes and the resulting melanocyte is called melanoclast cell. The mutation causes melanocytes to grow and grow in response to sunlight, while also causing cancer. In humans, cancer cells are found in the skin and in the lymph nodes. In addition, melanocytes have an ability to regenerate damaged cells and the immune system that is needed to kill cancer cells. In humans, melanocytes also have a genetic component. melanocytes can be found in the lymph nodes and in the lymph nodes. In this way, melanocytes can be used in the treatment of cancer.  \n"
     ]
    }
   ],
   "source": [
    "K=10\n",
    "!python ./transformers/examples/text-generation/run_generation.py \\\n",
    "--model_type gpt2 \\\n",
    "--model_name_or_path $OUTPUT_DIR \\\n",
    "--length 300 \\\n",
    "--prompt \"Adult acute lymphoblastic leukemia (ALL) is a type of cancer in which the bone marrow makes too many lymphocytes (a type of white blood cell).\" \\\n",
    "--stop_token \"<EOS>\" \\\n",
    "--k $K \\\n",
    "--num_return_sequences 1"
   ]
  },
  {
   "cell_type": "code",
   "execution_count": 10,
   "metadata": {},
   "outputs": [],
   "source": [
    "# K=10\n",
    "# !python ./transformers/examples/text-generation/run_generation.py \\\n",
    "# --model_type gpt2 \\\n",
    "# --model_name_or_path gpt2 \\\n",
    "# --length 300 \\\n",
    "# --prompt \"Adult acute lymphoblastic leukemia (ALL) is a type of cancer in which the bone marrow makes too many lymphocytes (a type of white blood cell).\" \\\n",
    "# #--stop_token \".\" \\\n",
    "# --k $K \\\n",
    "# --num_return_sequences 1"
   ]
  },
  {
   "cell_type": "code",
   "execution_count": null,
   "metadata": {},
   "outputs": [],
   "source": []
  }
 ],
 "metadata": {
  "kernelspec": {
   "display_name": "Python [conda env:deepNLP2020]",
   "language": "python",
   "name": "conda-env-deepNLP2020-py"
  },
  "language_info": {
   "codemirror_mode": {
    "name": "ipython",
    "version": 3
   },
   "file_extension": ".py",
   "mimetype": "text/x-python",
   "name": "python",
   "nbconvert_exporter": "python",
   "pygments_lexer": "ipython3",
   "version": "3.7.9"
  }
 },
 "nbformat": 4,
 "nbformat_minor": 4
}
