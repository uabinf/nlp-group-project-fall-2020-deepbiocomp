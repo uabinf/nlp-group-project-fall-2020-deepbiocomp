{
 "cells": [
  {
   "cell_type": "markdown",
   "metadata": {},
   "source": [
    "## Importing packages"
   ]
  },
  {
   "cell_type": "code",
   "execution_count": 17,
   "metadata": {},
   "outputs": [],
   "source": [
    "import warnings\n",
    "warnings.filterwarnings('ignore')\n",
    "\n",
    "import json\n",
    "import sys\n",
    "import os\n",
    "import pandas as pd"
   ]
  },
  {
   "cell_type": "markdown",
   "metadata": {},
   "source": [
    "## Loading RAW DATASET"
   ]
  },
  {
   "cell_type": "code",
   "execution_count": 14,
   "metadata": {},
   "outputs": [],
   "source": [
    "# DATA_DIR = \"../../dataset/new-prepared-data/qa/\"\n",
    "\n",
    "DATA_FILES = \"../../dataset/new-prepared-data/qa/full_qa.json\""
   ]
  },
  {
   "cell_type": "markdown",
   "metadata": {},
   "source": [
    "## Parsing XML to Data Frame with necessary tags"
   ]
  },
  {
   "cell_type": "code",
   "execution_count": 27,
   "metadata": {},
   "outputs": [],
   "source": [
    "data_column_names = [\"Answer\"]\n",
    "\n",
    "TXT_GEN_SIZE = 0\n",
    "Answers = []\n",
    "\n",
    "with open(DATA_FILES) as f:\n",
    "    tree = json.loads(f.read())\n",
    "\n",
    "for each_data in tree['data']:\n",
    "    for each_para in each_data['paragraphs']:\n",
    "        Answers.append(each_para['context'])\n",
    "        TXT_GEN_SIZE +=1\n",
    "\n",
    "TXT_GEN_DATAFRAME = pd.DataFrame(Answers, columns = data_column_names)"
   ]
  },
  {
   "cell_type": "markdown",
   "metadata": {},
   "source": [
    "## Spliting Data Frames to TRAIN(80%), DEV(10%), TEST(10%)"
   ]
  },
  {
   "cell_type": "code",
   "execution_count": 28,
   "metadata": {},
   "outputs": [
    {
     "name": "stdout",
     "output_type": "stream",
     "text": [
      "  Train datasize (80%)     : 583 \n",
      "+ Validation datasize (10%):  73 \n",
      "+ Test datasize (10%)      :  73 \n",
      " -------------------------------- \n",
      "  Total QA size            : 729\n"
     ]
    }
   ],
   "source": [
    "TRAIN_TXT_GEN_DATAFRAME = TXT_GEN_DATAFRAME.sample(frac=0.8,random_state=200)\n",
    "\n",
    "temp_df = TXT_GEN_DATAFRAME.drop(TRAIN_TXT_GEN_DATAFRAME.index)\n",
    "DEV_TXT_GEN_DATAFRAME = temp_df.sample(frac=0.5,random_state=200)\n",
    "\n",
    "TEST_TXT_GEN_DATAFRAME = temp_df.drop(DEV_TXT_GEN_DATAFRAME.index)\n",
    "\n",
    "TRAIN_TXT_GEN_DATAFRAME = TRAIN_TXT_GEN_DATAFRAME.reset_index(drop=True)\n",
    "DEV_TXT_GEN_DATAFRAME = DEV_TXT_GEN_DATAFRAME.reset_index(drop=True)\n",
    "TEST_TXT_GEN_DATAFRAME = TEST_TXT_GEN_DATAFRAME.reset_index(drop=True)\n",
    "\n",
    "print(\"  Train datasize (80%)     :\", len(TRAIN_TXT_GEN_DATAFRAME), \n",
    "      \"\\n+ Validation datasize (10%): \",len(DEV_TXT_GEN_DATAFRAME),\n",
    "      \"\\n+ Test datasize (10%)      : \", len(TEST_TXT_GEN_DATAFRAME), \n",
    "      \"\\n\", \"-\"*32, \"\\n\", \n",
    "      \" Total QA size            :\", TXT_GEN_SIZE)"
   ]
  },
  {
   "cell_type": "markdown",
   "metadata": {},
   "source": [
    "## Added $\\lt$BOS$\\gt$ and $\\lt$EOS$\\gt$ tags"
   ]
  },
  {
   "cell_type": "code",
   "execution_count": 35,
   "metadata": {},
   "outputs": [
    {
     "data": {
      "text/plain": [
       "'Signs and symptoms of osteosarcoma and MFH include swelling over a bone or a bony part of the body and joint pain. These and other signs and symptoms may be caused by osteosarcoma or MFH or by other conditions. Check with a doctor if your child has any of the following: Swelling over a bone or bony part of the body. Pain in a bone or joint. A bone that breaks for no known reason.'"
      ]
     },
     "execution_count": 35,
     "metadata": {},
     "output_type": "execute_result"
    }
   ],
   "source": [
    "TRAIN_TXT_GEN_DATAFRAME['Answer'][0]"
   ]
  },
  {
   "cell_type": "code",
   "execution_count": 36,
   "metadata": {},
   "outputs": [],
   "source": [
    "def dataFrame_to_text_generate(DataFrame_name, OutPut_json_file_name):\n",
    "    with open(OutPut_json_file_name, 'w') as outfile:\n",
    "        for index in range(len(DataFrame_name)):\n",
    "            temp_answer = DataFrame_name.Answer[index].split('.')\n",
    "            for line in temp_answer:\n",
    "                line = line.strip()\n",
    "                if line:\n",
    "                    temp_line = \"<BOS>\"+line+\".<EOS>\\n\"\n",
    "                    outfile.write(temp_line)"
   ]
  },
  {
   "cell_type": "markdown",
   "metadata": {},
   "source": [
    "## Saving data to file"
   ]
  },
  {
   "cell_type": "code",
   "execution_count": 37,
   "metadata": {},
   "outputs": [],
   "source": [
    "PREPARED_DATA_PATH ='../../dataset/new-prepared-data/text-generation/'\n",
    "\n",
    "TRAIN_TXT_GEN_TXT = PREPARED_DATA_PATH + 'train_text-generation.txt'\n",
    "DEV_TXT_GEN_TXT = PREPARED_DATA_PATH + 'dev_text-generation.txt'\n",
    "TEST_TXT_GEN_TXT = PREPARED_DATA_PATH + 'test_text-generation.txt'\n",
    "\n",
    "dataFrame_to_text_generate(TRAIN_TXT_GEN_DATAFRAME, TRAIN_TXT_GEN_TXT)\n",
    "dataFrame_to_text_generate(DEV_TXT_GEN_DATAFRAME, DEV_TXT_GEN_TXT)\n",
    "dataFrame_to_text_generate(TEST_TXT_GEN_DATAFRAME, TEST_TXT_GEN_TXT)"
   ]
  },
  {
   "cell_type": "code",
   "execution_count": null,
   "metadata": {},
   "outputs": [],
   "source": []
  }
 ],
 "metadata": {
  "kernelspec": {
   "display_name": "Python 3",
   "language": "python",
   "name": "python3"
  },
  "language_info": {
   "codemirror_mode": {
    "name": "ipython",
    "version": 3
   },
   "file_extension": ".py",
   "mimetype": "text/x-python",
   "name": "python",
   "nbconvert_exporter": "python",
   "pygments_lexer": "ipython3",
   "version": "3.7.9"
  }
 },
 "nbformat": 4,
 "nbformat_minor": 4
}
