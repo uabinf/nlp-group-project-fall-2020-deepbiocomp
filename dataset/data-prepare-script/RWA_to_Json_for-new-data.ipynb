{
 "cells": [
  {
   "cell_type": "markdown",
   "metadata": {},
   "source": [
    "# Load packages"
   ]
  },
  {
   "cell_type": "code",
   "execution_count": 1,
   "metadata": {},
   "outputs": [],
   "source": [
    "from collections import defaultdict\n",
    "import json"
   ]
  },
  {
   "cell_type": "code",
   "execution_count": 2,
   "metadata": {},
   "outputs": [],
   "source": [
    "File = \"../../dataset/raw/new-formatted_1_CancerGov_QA/QA_RAW_text_edit.txt\"\n",
    "\n",
    "dic = defaultdict(list)\n",
    "\n",
    "flag = \"\"\n",
    "\n",
    "Data = open(File).read().splitlines()\n",
    "\n",
    "for i in Data:\n",
    "    if i.startswith(\">\"):\n",
    "        flag = i\n",
    "    dic[flag].append(i)\n",
    "\n",
    "data = []\n",
    "    \n",
    "for i in dic:\n",
    "    #print(i)\n",
    "    temp = dic[i]\n",
    "    ID, qtype, question, context = temp[:4]\n",
    "    ID = ID.replace(\"> \", \"\")\n",
    "    qtype = qtype.replace(\"$\", \"\")\n",
    "    question = question.replace(\"$\", \"\")\n",
    "    context = context.replace(\"$\", \"\")\n",
    "\n",
    "    answers = []\n",
    "    Answers = [i for i in temp[4:] if i.startswith(\"!\")]\n",
    "    #if len(Answers) == 0:print(ID, len(Answers))\n",
    "    for a in Answers:\n",
    "        a = a.replace(\"!\", \"\")\n",
    "        answers.append({\"text\":a, \"answer_start\":context.find(a)})\n",
    "        \n",
    "    data_dic =  {\n",
    "            \"title\":qtype, \n",
    "            \"paragraphs\":[\n",
    "                {\"context\":context, \n",
    "                 \"qas\":[\n",
    "                     {\n",
    "                         \"answers\": answers, \n",
    "                         \"question\":question,\n",
    "                      \"id\":ID\n",
    "                     }\n",
    "                 ]\n",
    "                }\n",
    "            ]\n",
    "        }\n",
    "    data.append(data_dic)\n",
    "    #break\n"
   ]
  },
  {
   "cell_type": "code",
   "execution_count": 3,
   "metadata": {},
   "outputs": [],
   "source": [
    "Data = {\"data\" : data,\n",
    "        \"version\" : \"1.1\",\n",
    "        \"team\" : \"nlp-group-project-fall-2020-deepbiocomp\",\n",
    "        \"Disease\" : \"Cancer\"\n",
    "       }\n"
   ]
  },
  {
   "cell_type": "code",
   "execution_count": 4,
   "metadata": {},
   "outputs": [
    {
     "data": {
      "text/plain": [
       "729"
      ]
     },
     "execution_count": 4,
     "metadata": {},
     "output_type": "execute_result"
    }
   ],
   "source": [
    "len(Data[\"data\"])"
   ]
  },
  {
   "cell_type": "code",
   "execution_count": 5,
   "metadata": {},
   "outputs": [],
   "source": [
    "json.dumps(Data, indent = 4) \n",
    "\n",
    "with open('../../dataset/new-prepared-data/qa/Cancer.1.0.json', 'w') as fp:\n",
    "    json.dump(Data, fp)"
   ]
  },
  {
   "cell_type": "markdown",
   "metadata": {},
   "source": [
    "# Split Data"
   ]
  },
  {
   "cell_type": "markdown",
   "metadata": {},
   "source": [
    "``Continuous split``"
   ]
  },
  {
   "cell_type": "code",
   "execution_count": 6,
   "metadata": {},
   "outputs": [
    {
     "name": "stdout",
     "output_type": "stream",
     "text": [
      "583 655 729\n"
     ]
    }
   ],
   "source": [
    "TRAIN = int(len(Data[\"data\"])*0.8) # 80%\n",
    "DEV = TRAIN + int(len(Data[\"data\"])*0.1) # 10%\n",
    "TEST = len(Data[\"data\"])\n",
    "print(TRAIN, DEV, TEST)\n",
    "\n",
    "train = {\"data\" : Data['data'][:TRAIN],\n",
    "        \"version\" : \"1.1\",\n",
    "        \"team\" : \"nlp-group-project-fall-2020-deepbiocomp\",\n",
    "        \"Disease\" : \"Cancer\"\n",
    "       }\n",
    "\n",
    "dev = {\"data\" : Data['data'][TRAIN:DEV],\n",
    "        \"version\" : \"1.1\",\n",
    "        \"team\" : \"nlp-group-project-fall-2020-deepbiocomp\",\n",
    "        \"Disease\" : \"Cancer\"\n",
    "       }\n",
    "\n",
    "test = {\"data\" : Data['data'][DEV:],\n",
    "        \"version\" : \"1.1\",\n",
    "        \"team\" : \"nlp-group-project-fall-2020-deepbiocomp\",\n",
    "        \"Disease\" : \"Cancer\"\n",
    "       }"
   ]
  },
  {
   "cell_type": "code",
   "execution_count": 7,
   "metadata": {},
   "outputs": [
    {
     "name": "stdout",
     "output_type": "stream",
     "text": [
      "TRAIN : 583\n",
      "DEV   : 72\n",
      "TEST  : 74\n"
     ]
    }
   ],
   "source": [
    "print(f\"TRAIN : {len(train['data'])}\")\n",
    "print(f\"DEV   : {len(dev['data'])}\")\n",
    "print(f\"TEST  : {len(test['data'])}\")"
   ]
  },
  {
   "cell_type": "markdown",
   "metadata": {},
   "source": [
    "## Saving Continuous JSON data to JSON file"
   ]
  },
  {
   "cell_type": "code",
   "execution_count": 8,
   "metadata": {},
   "outputs": [],
   "source": [
    "with open('../../dataset/new-prepared-data/qa/Train_cancer_qa.1.0.json', 'w') as fp:\n",
    "    json.dump(train, fp)\n",
    "    \n",
    "with open('../../dataset/new-prepared-data/qa/Dev_cancer_qa.1.0.json', 'w') as fp:\n",
    "    json.dump(dev, fp)\n",
    "\n",
    "with open('../../dataset/new-prepared-data/qa/Test_cancer_qa.1.0.json', 'w') as fp:\n",
    "    json.dump(test, fp)\n"
   ]
  },
  {
   "cell_type": "markdown",
   "metadata": {},
   "source": [
    "``Random split``"
   ]
  },
  {
   "cell_type": "code",
   "execution_count": 9,
   "metadata": {},
   "outputs": [
    {
     "name": "stdout",
     "output_type": "stream",
     "text": [
      "  Train datasize (80%)     : 583 \n",
      "+ Validation datasize (10%):  73 \n",
      "+ Test datasize (10%)      :  73 \n",
      " -------------------------------- \n",
      "  Total QA size            : 729\n"
     ]
    }
   ],
   "source": [
    "import random\n",
    "random.seed(200)\n",
    "indx_train = random.sample(range(len(Data['data'])), int(len(Data['data'])*0.8))\n",
    "indx_test_dev = []\n",
    "\n",
    "train_data = []\n",
    "for i in range(len(Data['data'])):\n",
    "    if i in indx_train:\n",
    "        train_data.append(Data['data'][i])\n",
    "    else:\n",
    "        indx_test_dev.append(i)\n",
    "indx_dev = []\n",
    "\n",
    "indx_test = random.sample(indx_test_dev, int(len(Data['data'])*0.1)+1)\n",
    "test_data = []\n",
    "for i in range(len(Data['data'])):\n",
    "    if i in indx_test:\n",
    "        test_data.append(Data['data'][i])\n",
    "    elif (i in indx_test_dev) and (i not in indx_test):\n",
    "        indx_dev.append(i)\n",
    "        \n",
    "dev_data = [Data['data'][i] for i in range(len(Data['data'])) if i in indx_dev]\n",
    "\n",
    "print(\"  Train datasize (80%)     :\", len(train_data), \n",
    "      \"\\n+ Validation datasize (10%): \",len(dev_data),\n",
    "      \"\\n+ Test datasize (10%)      : \", len(test_data), \n",
    "      \"\\n\", \"-\"*32, \"\\n\", \n",
    "      \" Total QA size            :\", len(Data['data']))"
   ]
  },
  {
   "cell_type": "code",
   "execution_count": 10,
   "metadata": {},
   "outputs": [],
   "source": [
    "train_rand = {\"data\" : train_data,\n",
    "              \"version\" : \"1.1\",\n",
    "              \"team\" : \"nlp-group-project-fall-2020-deepbiocomp\",\n",
    "              \"Disease\" : \"Cancer\"\n",
    "             }\n",
    "\n",
    "test_rand = {\"data\" : test_data,\n",
    "             \"version\" : \"1.1\",\n",
    "             \"team\" : \"nlp-group-project-fall-2020-deepbiocomp\",\n",
    "             \"Disease\" : \"Cancer\"\n",
    "            }\n",
    "\n",
    "dev_rand = {\"data\" : dev_data,\n",
    "            \"version\" : \"1.1\",\n",
    "            \"team\" : \"nlp-group-project-fall-2020-deepbiocomp\",\n",
    "            \"Disease\" : \"Cancer\"\n",
    "           }"
   ]
  },
  {
   "cell_type": "markdown",
   "metadata": {},
   "source": [
    "## Saving Random JSON data to JSON file"
   ]
  },
  {
   "cell_type": "code",
   "execution_count": 11,
   "metadata": {},
   "outputs": [],
   "source": [
    "with open('../../dataset/new-prepared-data/qa/train_qa_rand.json', 'w') as fp:\n",
    "    json.dump(train_rand, fp)\n",
    "    \n",
    "with open('../../dataset/new-prepared-data/qa/dev_qa_rand.json', 'w') as fp:\n",
    "    json.dump(dev_rand, fp)\n",
    "\n",
    "with open('../../dataset/new-prepared-data/qa/test_qa_rand.json', 'w') as fp:\n",
    "    json.dump(test_rand, fp)"
   ]
  }
 ],
 "metadata": {
  "kernelspec": {
   "display_name": "Python 3",
   "language": "python",
   "name": "python3"
  },
  "language_info": {
   "codemirror_mode": {
    "name": "ipython",
    "version": 3
   },
   "file_extension": ".py",
   "mimetype": "text/x-python",
   "name": "python",
   "nbconvert_exporter": "python",
   "pygments_lexer": "ipython3",
   "version": "3.7.9"
  }
 },
 "nbformat": 4,
 "nbformat_minor": 4
}
