{
 "cells": [
  {
   "cell_type": "markdown",
   "metadata": {},
   "source": [
    "## Importing packages"
   ]
  },
  {
   "cell_type": "code",
   "execution_count": 1,
   "metadata": {},
   "outputs": [],
   "source": [
    "import warnings\n",
    "warnings.filterwarnings('ignore')\n",
    "\n",
    "import xml.etree.ElementTree as ET\n",
    "import sys\n",
    "import os\n",
    "import pandas as pd"
   ]
  },
  {
   "cell_type": "markdown",
   "metadata": {},
   "source": [
    "## Loading RAW DATASET"
   ]
  },
  {
   "cell_type": "code",
   "execution_count": 2,
   "metadata": {},
   "outputs": [],
   "source": [
    "DATA_DIR = \"/data/user/tr27p/Courses/CS762-NLP/FinalProject/nlp-group-project-fall-2020-deepbiocomp/dataset/raw/1_CancerGov_QA\"\n",
    "\n",
    "DATA_FILES = sorted(os.listdir(DATA_DIR))"
   ]
  },
  {
   "cell_type": "markdown",
   "metadata": {},
   "source": [
    "## Parsing XML to Data Frame with necessary tags"
   ]
  },
  {
   "cell_type": "code",
   "execution_count": 3,
   "metadata": {},
   "outputs": [],
   "source": [
    "data_column_names = [\"Answer\"]\n",
    "\n",
    "TXT_GEN_SIZE = 0\n",
    "Answers = []\n",
    "for each_file in DATA_FILES:\n",
    "    tree = ET.parse(DATA_DIR+'/'+each_file)\n",
    "    root = tree.getroot()\n",
    "\n",
    "    for each_passage in root.iter('Document'):\n",
    "        for each_Answer in each_passage.iter('Answer'):\n",
    "            Answers.append(each_Answer.text)\n",
    "            TXT_GEN_SIZE +=1\n",
    "            \n",
    "TXT_GEN_DATAFRAME = pd.DataFrame(Answers, columns = data_column_names)"
   ]
  },
  {
   "cell_type": "markdown",
   "metadata": {},
   "source": [
    "## Spliting Data Frames to TRAIN(80%), DEV(10%), TEST(10%)"
   ]
  },
  {
   "cell_type": "code",
   "execution_count": 4,
   "metadata": {},
   "outputs": [
    {
     "name": "stdout",
     "output_type": "stream",
     "text": [
      "  Train datasize (80%)     : 583 \n",
      "+ Validation datasize (10%):  73 \n",
      "+ Test datasize (10%)      :  73 \n",
      " -------------------------------- \n",
      "  Total QA size            : 729\n"
     ]
    }
   ],
   "source": [
    "TRAIN_TXT_GEN_DATAFRAME = TXT_GEN_DATAFRAME.sample(frac=0.8,random_state=200)\n",
    "\n",
    "temp_df = TXT_GEN_DATAFRAME.drop(TRAIN_TXT_GEN_DATAFRAME.index)\n",
    "DEV_TXT_GEN_DATAFRAME = temp_df.sample(frac=0.5,random_state=200)\n",
    "\n",
    "TEST_TXT_GEN_DATAFRAME = temp_df.drop(DEV_TXT_GEN_DATAFRAME.index)\n",
    "\n",
    "TRAIN_TXT_GEN_DATAFRAME = TRAIN_TXT_GEN_DATAFRAME.reset_index(drop=True)\n",
    "DEV_TXT_GEN_DATAFRAME = DEV_TXT_GEN_DATAFRAME.reset_index(drop=True)\n",
    "TEST_TXT_GEN_DATAFRAME = TEST_TXT_GEN_DATAFRAME.reset_index(drop=True)\n",
    "\n",
    "print(\"  Train datasize (80%)     :\", len(TRAIN_TXT_GEN_DATAFRAME), \n",
    "      \"\\n+ Validation datasize (10%): \",len(DEV_TXT_GEN_DATAFRAME),\n",
    "      \"\\n+ Test datasize (10%)      : \", len(TEST_TXT_GEN_DATAFRAME), \n",
    "      \"\\n\", \"-\"*32, \"\\n\", \n",
    "      \" Total QA size            :\", TXT_GEN_SIZE)"
   ]
  },
  {
   "cell_type": "markdown",
   "metadata": {},
   "source": [
    "## Added $\\lt$BOS$\\gt$ and $\\lt$EOS$\\gt$ tags"
   ]
  },
  {
   "cell_type": "code",
   "execution_count": 5,
   "metadata": {},
   "outputs": [],
   "source": [
    "def dataFrame_to_text_generate(DataFrame_name, OutPut_json_file_name):\n",
    "    with open(OutPut_json_file_name, 'w') as outfile:\n",
    "        for index in range(len(DataFrame_name)):\n",
    "            temp_answer = DataFrame_name.Answer[index].split('\\n')\n",
    "            for line in temp_answer:\n",
    "                line = line.strip()\n",
    "                if line:\n",
    "                    temp_line = \"<BOS>\"+line+\"<EOS>\\n\"\n",
    "                    outfile.write(temp_line)"
   ]
  },
  {
   "cell_type": "markdown",
   "metadata": {},
   "source": [
    "## Saving data to file"
   ]
  },
  {
   "cell_type": "code",
   "execution_count": 6,
   "metadata": {},
   "outputs": [],
   "source": [
    "PREPARED_DATA_PATH ='/data/user/tr27p/Courses/CS762-NLP/FinalProject/nlp-group-project-fall-2020-deepbiocomp/dataset/prepared-data/text-generation/'\n",
    "\n",
    "TRAIN_TXT_GEN_TXT = PREPARED_DATA_PATH + 'train_text-generation.txt'\n",
    "DEV_TXT_GEN_TXT = PREPARED_DATA_PATH + 'dev_text-generation.txt'\n",
    "TEST_TXT_GEN_TXT = PREPARED_DATA_PATH + 'test_text-generation.txt'\n",
    "\n",
    "dataFrame_to_text_generate(TRAIN_TXT_GEN_DATAFRAME, TRAIN_TXT_GEN_TXT)\n",
    "dataFrame_to_text_generate(DEV_TXT_GEN_DATAFRAME, DEV_TXT_GEN_TXT)\n",
    "dataFrame_to_text_generate(TEST_TXT_GEN_DATAFRAME, TEST_TXT_GEN_TXT)"
   ]
  },
  {
   "cell_type": "code",
   "execution_count": null,
   "metadata": {},
   "outputs": [],
   "source": []
  }
 ],
 "metadata": {
  "kernelspec": {
   "display_name": "Python 3",
   "language": "python",
   "name": "python3"
  },
  "language_info": {
   "codemirror_mode": {
    "name": "ipython",
    "version": 3
   },
   "file_extension": ".py",
   "mimetype": "text/x-python",
   "name": "python",
   "nbconvert_exporter": "python",
   "pygments_lexer": "ipython3",
   "version": "3.8.3"
  }
 },
 "nbformat": 4,
 "nbformat_minor": 4
}
