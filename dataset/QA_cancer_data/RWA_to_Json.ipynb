{
 "cells": [
  {
   "cell_type": "code",
   "execution_count": null,
   "metadata": {},
   "outputs": [],
   "source": []
  },
  {
   "cell_type": "code",
   "execution_count": 22,
   "metadata": {},
   "outputs": [],
   "source": [
    "from collections import defaultdict\n",
    "import json"
   ]
  },
  {
   "cell_type": "code",
   "execution_count": 23,
   "metadata": {},
   "outputs": [],
   "source": [
    "File = \"QA_RAW_text_edit.txt\"\n",
    "\n",
    "dic = defaultdict(list)\n",
    "\n",
    "flag = \"\"\n",
    "\n",
    "Data = open(File).read().splitlines()\n",
    "\n",
    "for i in Data:\n",
    "    if i.startswith(\">\"):\n",
    "        flag = i\n",
    "    dic[flag].append(i)\n",
    "\n",
    "data = []\n",
    "    \n",
    "for i in dic:\n",
    "    #print(i)\n",
    "    temp = dic[i]\n",
    "    ID, qtype, question, context = temp[:4]\n",
    "    ID = ID.replace(\"> \", \"\")\n",
    "    qtype = qtype.replace(\"$\", \"\")\n",
    "    question = question.replace(\"$\", \"\")\n",
    "    context = context.replace(\"$\", \"\")\n",
    "\n",
    "    answers = []\n",
    "    Answers = [i for i in temp[4:] if i.startswith(\"!\")]\n",
    "    #if len(Answers) == 0:print(ID, len(Answers))\n",
    "    for a in Answers:\n",
    "        a = a.replace(\"!\", \"\")\n",
    "        answers.append({\"text\":a, \"answer_start\":context.find(a)})\n",
    "        \n",
    "    data_dic =  {\n",
    "            \"title\":qtype, \n",
    "            \"paragraphs\":[\n",
    "                {\"context\":context, \n",
    "                 \"qas\":[\n",
    "                     {\n",
    "                         \"answers\": answers, \n",
    "                         \"question\":question,\n",
    "                      \"id\":ID\n",
    "                     }\n",
    "                 ]\n",
    "                }\n",
    "            ]\n",
    "        }\n",
    "    data.append(data_dic)\n",
    "    #break\n"
   ]
  },
  {
   "cell_type": "code",
   "execution_count": 24,
   "metadata": {},
   "outputs": [],
   "source": [
    "Data = {\"data\" : data,\n",
    "        \"version\" : \"1.1\",\n",
    "        \"team\" : \"nlp-group-project-fall-2020-deepbiocomp\",\n",
    "        \"Disease\" : \"Cancer\"\n",
    "       }\n"
   ]
  },
  {
   "cell_type": "code",
   "execution_count": 25,
   "metadata": {},
   "outputs": [
    {
     "data": {
      "text/plain": [
       "729"
      ]
     },
     "execution_count": 25,
     "metadata": {},
     "output_type": "execute_result"
    }
   ],
   "source": [
    "len(Data[\"data\"])"
   ]
  },
  {
   "cell_type": "code",
   "execution_count": 26,
   "metadata": {},
   "outputs": [],
   "source": [
    "json.dumps(Data, indent = 4) \n",
    "\n",
    "with open('Cancer.json', 'w') as fp:\n",
    "    json.dump(Data, fp)"
   ]
  },
  {
   "cell_type": "code",
   "execution_count": null,
   "metadata": {},
   "outputs": [],
   "source": []
  },
  {
   "cell_type": "code",
   "execution_count": 49,
   "metadata": {},
   "outputs": [
    {
     "name": "stdout",
     "output_type": "stream",
     "text": [
      "583 655 729\n"
     ]
    }
   ],
   "source": [
    "TRAIN = int(len(Data[\"data\"])*0.8) # 80%\n",
    "DEV = TRAIN + int(len(Data[\"data\"])*0.1) # 10%\n",
    "TEST = len(Data[\"data\"])\n",
    "print(TRAIN, DEV, TEST)\n",
    "\n",
    "train = {\"data\" : Data['data'][:TRAIN],\n",
    "        \"version\" : \"1.1\",\n",
    "        \"team\" : \"nlp-group-project-fall-2020-deepbiocomp\",\n",
    "        \"Disease\" : \"Cancer\"\n",
    "       }\n",
    "\n",
    "dev = {\"data\" : Data['data'][TRAIN:DEV],\n",
    "        \"version\" : \"1.1\",\n",
    "        \"team\" : \"nlp-group-project-fall-2020-deepbiocomp\",\n",
    "        \"Disease\" : \"Cancer\"\n",
    "       }\n",
    "\n",
    "test = {\"data\" : Data['data'][DEV:],\n",
    "        \"version\" : \"1.1\",\n",
    "        \"team\" : \"nlp-group-project-fall-2020-deepbiocomp\",\n",
    "        \"Disease\" : \"Cancer\"\n",
    "       }"
   ]
  },
  {
   "cell_type": "code",
   "execution_count": 50,
   "metadata": {},
   "outputs": [
    {
     "name": "stdout",
     "output_type": "stream",
     "text": [
      "TRAIN:583\n",
      "DEV:72\n",
      "test:74\n"
     ]
    }
   ],
   "source": [
    "print(f\"TRAIN:{len(train['data'])}\")\n",
    "print(f\"DEV:{len(dev['data'])}\")\n",
    "print(f\"test:{len(test['data'])}\")"
   ]
  },
  {
   "cell_type": "code",
   "execution_count": 51,
   "metadata": {},
   "outputs": [],
   "source": [
    "with open('Train_cancer_qa.json', 'w') as fp:\n",
    "    json.dump(train, fp)\n",
    "    \n",
    "with open('Dev_cancer_qa.json', 'w') as fp:\n",
    "    json.dump(dev, fp)\n",
    "\n",
    "with open('Test_cancer_qa.json', 'w') as fp:\n",
    "    json.dump(test, fp)\n"
   ]
  },
  {
   "cell_type": "code",
   "execution_count": null,
   "metadata": {},
   "outputs": [],
   "source": []
  }
 ],
 "metadata": {
  "kernelspec": {
   "display_name": "Python 3",
   "language": "python",
   "name": "python3"
  },
  "language_info": {
   "codemirror_mode": {
    "name": "ipython",
    "version": 3
   },
   "file_extension": ".py",
   "mimetype": "text/x-python",
   "name": "python",
   "nbconvert_exporter": "python",
   "pygments_lexer": "ipython3",
   "version": "3.7.8"
  }
 },
 "nbformat": 4,
 "nbformat_minor": 4
}
